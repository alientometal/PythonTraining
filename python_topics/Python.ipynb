{
 "cells": [
  {
   "cell_type": "markdown",
   "metadata": {},
   "source": [
    "# Python topics"
   ]
  },
  {
   "cell_type": "code",
   "execution_count": 82,
   "metadata": {},
   "outputs": [
    {
     "name": "stdout",
     "output_type": "stream",
     "text": [
      "Date,Day_Name,Visitors,Revenue,Marketing Spend,Promo\n",
      "\n",
      "09/11/2020,Monday,707,5211,651.375,No Promo\n",
      "\n",
      "10/11/2020,Tuesday,1455,10386,1298.25,Promotion Red\n",
      "\n",
      "11/11/2020,Wednesday,1520,12475,1559.375,Promotion Blue\n",
      "\n",
      "12/11/2020,Thursday,1726,14414,1801.75,No Promo\n",
      "\n",
      "13/11/2020,Friday,2134,20916,2614.5,No Promo\n",
      "\n",
      "14/11/2020,Saturday,1316,12996,1444,Promotion Blue\n",
      "\n",
      "15/11/2020,Sunday,1287,11929,1325.444444,Promotion Blue\n",
      "\n",
      "16/11/2020,Monday,1548,10072,1119.111111,No Promo\n",
      "\n",
      "17/11/2020,Tuesday,1448,12016,1092.363636,Promotion Blue\n",
      "\n"
     ]
    }
   ],
   "source": [
    "file_handler = open(\"..\\data\\Marketing_Raw_Data.csv\", \"r\")\n",
    "i = 0\n",
    "for line in file_handler:\n",
    "    if i > 9 :\n",
    "        break\n",
    "    else:\n",
    "        print(line)\n",
    "        i = i + 1\n",
    "file_handler.close()\n"
   ]
  },
  {
   "cell_type": "code",
   "execution_count": 285,
   "metadata": {},
   "outputs": [
    {
     "name": "stdout",
     "output_type": "stream",
     "text": [
      "Date,Day_Name,Visitors,Revenue,Marketing Spend,Promo\n",
      "\n",
      "09/11/2020,Monday,707,5211,651.375,No Promo\n",
      "\n",
      "10/11/2020,Tuesday,1455,10386,1298.25,Promotion Red\n",
      "\n",
      "11/11/2020,Wednesday,1520,12475,1559.375,Promotion Blue\n",
      "\n",
      "12/11/2020,Thursday,1726,14414,1801.75,No Promo\n",
      "\n",
      "13/11/2020,Friday,2134,20916,2614.5,No Promo\n",
      "\n",
      "14/11/2020,Saturday,1316,12996,1444,Promotion Blue\n",
      "\n",
      "15/11/2020,Sunday,1287,11929,1325.444444,Promotion Blue\n",
      "\n",
      "16/11/2020,Monday,1548,10072,1119.111111,No Promo\n",
      "\n",
      "17/11/2020,Tuesday,1448,12016,1092.363636,Promotion Blue\n",
      "\n"
     ]
    }
   ],
   "source": [
    "with open(\"..\\data\\Marketing_Raw_Data.csv\", \"r\") as file_handler:\n",
    "    i = 0\n",
    "    for line in file_handler:\n",
    "        if i >  9:\n",
    "            break\n",
    "        else:\n",
    "            print(line)\n",
    "            i = i + 1"
   ]
  },
  {
   "cell_type": "code",
   "execution_count": 92,
   "metadata": {},
   "outputs": [],
   "source": [
    "import csv"
   ]
  },
  {
   "cell_type": "code",
   "execution_count": 104,
   "metadata": {},
   "outputs": [],
   "source": [
    "file_handler = open(\"..\\data\\Marketing_Raw_Data.csv\", \"r\")\n",
    "csv_extract = csv.reader(file_handler)"
   ]
  },
  {
   "cell_type": "code",
   "execution_count": 106,
   "metadata": {},
   "outputs": [
    {
     "data": {
      "text/plain": [
       "[]"
      ]
     },
     "execution_count": 106,
     "metadata": {},
     "output_type": "execute_result"
    }
   ],
   "source": [
    "[line for index, line in list(enumerate(csv_extract)) if index < 9]"
   ]
  },
  {
   "cell_type": "code",
   "execution_count": 286,
   "metadata": {},
   "outputs": [
    {
     "name": "stdout",
     "output_type": "stream",
     "text": [
      "335 µs ± 10.8 µs per loop (mean ± std. dev. of 7 runs, 1,000 loops each)\n"
     ]
    }
   ],
   "source": [
    "%%timeit\n",
    "with open(\"..\\data\\Marketing_Raw_Data.csv\", \"r\") as file_handler:\n",
    "    filtered_data = [(line['Date'], line['Visitors']) for line in csv.DictReader(file_handler)]"
   ]
  },
  {
   "cell_type": "code",
   "execution_count": 287,
   "metadata": {},
   "outputs": [
    {
     "name": "stdout",
     "output_type": "stream",
     "text": [
      "185 µs ± 3.61 µs per loop (mean ± std. dev. of 7 runs, 10,000 loops each)\n"
     ]
    }
   ],
   "source": [
    "%%timeit\n",
    "with open(\"..\\data\\Marketing_Raw_Data.csv\", \"r\") as file_handler:\n",
    "    filtered_data = [(line[0], line[2]) for line in csv.reader(file_handler)]"
   ]
  },
  {
   "cell_type": "code",
   "execution_count": 118,
   "metadata": {},
   "outputs": [],
   "source": [
    "from datetime import datetime"
   ]
  },
  {
   "cell_type": "code",
   "execution_count": 120,
   "metadata": {},
   "outputs": [
    {
     "data": {
      "text/plain": [
       "'2022-09-28'"
      ]
     },
     "execution_count": 120,
     "metadata": {},
     "output_type": "execute_result"
    }
   ],
   "source": [
    "datetime.now().strftime(\"%Y-%m-%d\")"
   ]
  },
  {
   "cell_type": "code",
   "execution_count": 126,
   "metadata": {},
   "outputs": [
    {
     "data": {
      "text/plain": [
       "datetime.datetime(2022, 9, 28, 12, 10, 36, 639721)"
      ]
     },
     "execution_count": 126,
     "metadata": {},
     "output_type": "execute_result"
    }
   ],
   "source": [
    "today = datetime.now()\n",
    "today"
   ]
  },
  {
   "cell_type": "code",
   "execution_count": 125,
   "metadata": {},
   "outputs": [
    {
     "data": {
      "text/plain": [
       "datetime.datetime(2020, 11, 14, 0, 0)"
      ]
     },
     "execution_count": 125,
     "metadata": {},
     "output_type": "execute_result"
    }
   ],
   "source": [
    "datetime.strptime('14/11/2020', \"%d/%m/%Y\")"
   ]
  },
  {
   "cell_type": "code",
   "execution_count": 131,
   "metadata": {},
   "outputs": [],
   "source": [
    "with open(\"..\\data\\Marketing_Raw_Data.csv\", \"r\") as file_handler:\n",
    "    filtered_data = [(line[0], line[2]) for line in csv.reader(file_handler)]"
   ]
  },
  {
   "cell_type": "code",
   "execution_count": 155,
   "metadata": {},
   "outputs": [],
   "source": [
    "max_visitors = max(filtered_data[1:], key=lambda x: int(x[1]))"
   ]
  },
  {
   "cell_type": "code",
   "execution_count": 156,
   "metadata": {},
   "outputs": [],
   "source": [
    "min_visitors = min(filtered_data[1:], key=lambda x: int(x[1]))"
   ]
  },
  {
   "cell_type": "code",
   "execution_count": 138,
   "metadata": {},
   "outputs": [
    {
     "data": {
      "text/plain": [
       "'6'"
      ]
     },
     "execution_count": 138,
     "metadata": {},
     "output_type": "execute_result"
    }
   ],
   "source": [
    "max(['e','5','4','3','2','1'])"
   ]
  },
  {
   "cell_type": "code",
   "execution_count": 141,
   "metadata": {},
   "outputs": [
    {
     "data": {
      "text/plain": [
       "(101, 'e')"
      ]
     },
     "execution_count": 141,
     "metadata": {},
     "output_type": "execute_result"
    }
   ],
   "source": [
    "ord('e'), chr(101)"
   ]
  },
  {
   "cell_type": "code",
   "execution_count": 152,
   "metadata": {},
   "outputs": [
    {
     "data": {
      "text/plain": [
       "('07/01/2021', '4139')"
      ]
     },
     "execution_count": 152,
     "metadata": {},
     "output_type": "execute_result"
    }
   ],
   "source": [
    "get_element = lambda var: int(var[1])\n",
    "max(filtered_data[1:], key=get_element)"
   ]
  },
  {
   "cell_type": "code",
   "execution_count": 154,
   "metadata": {},
   "outputs": [
    {
     "data": {
      "text/plain": [
       "6"
      ]
     },
     "execution_count": 154,
     "metadata": {},
     "output_type": "execute_result"
    }
   ],
   "source": [
    "get_element(('a', '6'))"
   ]
  },
  {
   "cell_type": "code",
   "execution_count": 150,
   "metadata": {},
   "outputs": [
    {
     "data": {
      "text/plain": [
       "'6'"
      ]
     },
     "execution_count": 150,
     "metadata": {},
     "output_type": "execute_result"
    }
   ],
   "source": [
    "str(6)"
   ]
  },
  {
   "cell_type": "code",
   "execution_count": 162,
   "metadata": {},
   "outputs": [],
   "source": [
    "def day_delta(date1, date2):\n",
    "    to_date = lambda date_string: datetime.strptime(date_string, \"%d/%m/%Y\")\n",
    "    delta = abs(to_date(date1) - to_date(date2))\n",
    "    return delta.days"
   ]
  },
  {
   "cell_type": "code",
   "execution_count": 163,
   "metadata": {},
   "outputs": [
    {
     "data": {
      "text/plain": [
       "19"
      ]
     },
     "execution_count": 163,
     "metadata": {},
     "output_type": "execute_result"
    }
   ],
   "source": [
    "day_delta(min_visitors[0], max_visitors[0])"
   ]
  },
  {
   "cell_type": "code",
   "execution_count": 166,
   "metadata": {},
   "outputs": [],
   "source": [
    "import numpy as np"
   ]
  },
  {
   "cell_type": "code",
   "execution_count": 177,
   "metadata": {},
   "outputs": [
    {
     "data": {
      "text/plain": [
       "13"
      ]
     },
     "execution_count": 177,
     "metadata": {},
     "output_type": "execute_result"
    }
   ],
   "source": [
    "to_date = lambda date_string: datetime.strptime(date_string, \"%d/%m/%Y\")\n",
    "abs(np.busday_count(to_date(min_visitors[0]).strftime(\"%Y-%m-%d\"), to_date(max_visitors[0]).strftime(\"%Y-%m-%d\")))"
   ]
  },
  {
   "cell_type": "code",
   "execution_count": 263,
   "metadata": {},
   "outputs": [],
   "source": [
    "def generator(count=100):\n",
    "    for i in range(count):\n",
    "        if i > 6:\n",
    "            yield i\n",
    "        else:\n",
    "            yield str(i)\n"
   ]
  },
  {
   "cell_type": "code",
   "execution_count": 272,
   "metadata": {},
   "outputs": [],
   "source": [
    "str_or_int = generator(10)"
   ]
  },
  {
   "cell_type": "code",
   "execution_count": 284,
   "metadata": {},
   "outputs": [
    {
     "ename": "StopIteration",
     "evalue": "",
     "output_type": "error",
     "traceback": [
      "\u001b[1;31m---------------------------------------------------------------------------\u001b[0m",
      "\u001b[1;31mStopIteration\u001b[0m                             Traceback (most recent call last)",
      "\u001b[1;32mc:\\Users\\2000076134\\Dev\\SessionPython\\Python.ipynb Cell 27\u001b[0m in \u001b[0;36m<cell line: 1>\u001b[1;34m()\u001b[0m\n\u001b[1;32m----> <a href='vscode-notebook-cell:/c%3A/Users/2000076134/Dev/SessionPython/Python.ipynb#X65sZmlsZQ%3D%3D?line=0'>1</a>\u001b[0m \u001b[39mnext\u001b[39;49m(str_or_int)\n",
      "\u001b[1;31mStopIteration\u001b[0m: "
     ]
    }
   ],
   "source": [
    "next(str_or_int)"
   ]
  },
  {
   "cell_type": "code",
   "execution_count": 271,
   "metadata": {},
   "outputs": [
    {
     "data": {
      "text/plain": [
       "['0', '1', '2', '3', '4', '5', '6', 7, 8, 9]"
      ]
     },
     "execution_count": 271,
     "metadata": {},
     "output_type": "execute_result"
    }
   ],
   "source": [
    "list(generator(10))"
   ]
  },
  {
   "cell_type": "code",
   "execution_count": 283,
   "metadata": {},
   "outputs": [
    {
     "ename": "StopIteration",
     "evalue": "",
     "output_type": "error",
     "traceback": [
      "\u001b[1;31m---------------------------------------------------------------------------\u001b[0m",
      "\u001b[1;31mStopIteration\u001b[0m                             Traceback (most recent call last)",
      "\u001b[1;32mc:\\Users\\2000076134\\Dev\\SessionPython\\Python.ipynb Cell 29\u001b[0m in \u001b[0;36m<cell line: 1>\u001b[1;34m()\u001b[0m\n\u001b[1;32m----> <a href='vscode-notebook-cell:/c%3A/Users/2000076134/Dev/SessionPython/Python.ipynb#X66sZmlsZQ%3D%3D?line=0'>1</a>\u001b[0m \u001b[39mnext\u001b[39;49m(str_or_int)\n",
      "\u001b[1;31mStopIteration\u001b[0m: "
     ]
    }
   ],
   "source": [
    "next(str_or_int)"
   ]
  },
  {
   "cell_type": "code",
   "execution_count": 192,
   "metadata": {},
   "outputs": [],
   "source": [
    "counting_elements = generator(10)"
   ]
  },
  {
   "cell_type": "code",
   "execution_count": 230,
   "metadata": {},
   "outputs": [],
   "source": [
    "to_date = lambda date_string: datetime.strptime(date_string, \"%d/%m/%Y\")\n",
    "\n",
    "file_handler = open(\"..\\data\\Marketing_Raw_Data.csv\", \"r\")\n",
    "raw_data = csv.reader(file_handler)\n",
    "\n",
    "def get_weekend_visitors(data):\n",
    "    next(data)\n",
    "    for line in data:\n",
    "        date_string, visitors = line[0], line[2]\n",
    "        date = to_date(date_string)\n",
    "        \n",
    "        if date.isoweekday() == 6:\n",
    "            yield(date_string, visitors)"
   ]
  },
  {
   "cell_type": "code",
   "execution_count": 215,
   "metadata": {},
   "outputs": [],
   "source": [
    "weekend_visitors = get_weekend_visitors(raw_data)"
   ]
  },
  {
   "cell_type": "code",
   "execution_count": 231,
   "metadata": {},
   "outputs": [
    {
     "data": {
      "text/plain": [
       "[('20/02/2021', '1047'),\n",
       " ('27/02/2021', '1797'),\n",
       " ('06/03/2021', '1621'),\n",
       " ('13/03/2021', '2732'),\n",
       " ('20/03/2021', '543'),\n",
       " ('27/03/2021', '1437'),\n",
       " ('03/04/2021', '1532'),\n",
       " ('10/04/2021', '1625'),\n",
       " ('17/04/2021', '1509'),\n",
       " ('24/04/2021', '1345'),\n",
       " ('01/05/2021', '1380'),\n",
       " ('08/05/2021', '1483')]"
      ]
     },
     "execution_count": 231,
     "metadata": {},
     "output_type": "execute_result"
    }
   ],
   "source": [
    "list(weekend_visitors)"
   ]
  },
  {
   "cell_type": "markdown",
   "metadata": {},
   "source": []
  }
 ],
 "metadata": {
  "kernelspec": {
   "display_name": "Python 3.9.12 ('base')",
   "language": "python",
   "name": "python3"
  },
  "language_info": {
   "codemirror_mode": {
    "name": "ipython",
    "version": 3
   },
   "file_extension": ".py",
   "mimetype": "text/x-python",
   "name": "python",
   "nbconvert_exporter": "python",
   "pygments_lexer": "ipython3",
   "version": "3.9.12"
  },
  "orig_nbformat": 4,
  "vscode": {
   "interpreter": {
    "hash": "3724d0f5762a99e6839fb4dbd4bdb548a98954709a09840cb011f6ea2b5eaba8"
   }
  }
 },
 "nbformat": 4,
 "nbformat_minor": 2
}
