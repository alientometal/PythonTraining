{
 "cells": [
  {
   "cell_type": "markdown",
   "metadata": {},
   "source": [
    "# Exercise  \n",
    "\n",
    "We have a layout file giving us the information on how we must interprete each file.\n",
    "\n",
    "Files have their generation date in the file name with the format PYYMMDD.\n",
    "\n",
    "We must create a class that takes each file, translates it and returns to us a DataFrame.\n",
    "\n",
    "The dataframe columns must be:  \n",
    "ID as portfolio_ID   \n",
    "target ID as Amount   \n",
    "operation date as trade date  \n",
    "valuation date as settle date  \n",
    "operation descritpion as desc (Internal Transaction)  \n",
    "A column named estimation with values (E)  \n",
    "We must include a column with the currency (MXN)  \n",
    "And a column with a transaction_ID by concatenating three fields: portfolio_ID, Settle_date, operation descrition   \n",
    "\n",
    "The final file must have all the processed transactions and have the filename generated with the next business day \n",
    "\"cash_transactions_DATE.csv\""
   ]
  },
  {
   "cell_type": "markdown",
   "metadata": {},
   "source": []
  },
  {
   "cell_type": "code",
   "execution_count": 51,
   "metadata": {},
   "outputs": [
    {
     "name": "stdout",
     "output_type": "stream",
     "text": [
      "Overwriting layout_config.py\n"
     ]
    }
   ],
   "source": [
    "%%writefile layout_config.py\n",
    "LAYOUT_MAPPING = {\n",
    "    \"ID\":(1,3),\n",
    "    \"Price\":(4,15),\n",
    "    \"OPERATION DATE\":(16,23),\n",
    "    \"VALUATION DATE\":(24,31),\n",
    "    \"TARGET VALUE\":(32,46),\n",
    "    \"AMOUNT 1\":(47,63),\n",
    "    \"AMOUNT 2\":(64,80),\n",
    "    \"AMOUNT 3\":(81,97),\n",
    "    \"AMOUNT 4\":(98,114),\n",
    "    \"AMOUNT 5\":(115,131),\n",
    "    \"AMOUNT 6\":(132,148),\n",
    "    \"AMOUNT 7\":(149,165)\n",
    "}\n",
    "\n",
    "COLUMNS_MAPPING = {\n",
    "    \"ID\":\"PORTFOLIO_ID\",\n",
    "    \"OPERATION DATE\":\"TRADE_DATE\",\n",
    "    \"VALUATION DATE\":\"SETTLE_DATE\",\n",
    "    \"TARGET VALUE\":\"AMOUNT\"\n",
    "}"
   ]
  },
  {
   "cell_type": "code",
   "execution_count": 16,
   "metadata": {},
   "outputs": [],
   "source": [
    "%reload_ext autoreload\n",
    "%autoreload 2"
   ]
  },
  {
   "cell_type": "code",
   "execution_count": 152,
   "metadata": {},
   "outputs": [],
   "source": [
    "#%%writefile processing.py\n",
    "import pandas as pd\n",
    "from layout_config import LAYOUT_MAPPING, COLUMNS_MAPPING\n",
    "\n",
    "class ProcessFile():\n",
    "    def __init__(self, filename):\n",
    "        self._filename = filename\n",
    "        \n",
    "        self.clean_data()\n",
    "    \n",
    "    def clean_data(self) -> None:\n",
    "        \"\"\"\n",
    "        The clean_data function reads the file, extracts the layout and creates a dataframe with \n",
    "        the transaction information. The function returns a dataframe with all transactions.\n",
    "        \n",
    "        Returns:\n",
    "            The transaction_df dataframe\n",
    "        \n",
    "        \"\"\"\n",
    "    \n",
    "        def _read_file() -> None:\n",
    "            with open(self._filename, \"r\") as Pfile:\n",
    "                self.string = Pfile.read()  \n",
    "            \n",
    "            return  \n",
    "        \n",
    "        def _get_layout() -> None:\n",
    "            get_interval = lambda target_string, interval: target_string[interval[0] -1:interval[1]] \n",
    "            self.layout = {key:get_interval(self.string, interval) for key, interval in LAYOUT_MAPPING.items()}\n",
    "            \n",
    "            return\n",
    "    \n",
    "        def _process_layout() -> None:\n",
    "            self.layout_df = pd.DataFrame.from_dict(self.layout, orient=\"index\").T\n",
    "            self.layout_df[[\"OPERATION DATE\", \"VALUATION DATE\"]] = self.layout_df[[\"OPERATION DATE\", \"VALUATION DATE\"]].apply(pd.to_datetime)\n",
    "            self.layout_df.rename(columns=COLUMNS_MAPPING, inplace=True)\n",
    "            return\n",
    "        \n",
    "        def _set_final_dataframe() -> None:\n",
    "            self.transaction_df = self.layout_df[['PORTFOLIO_ID', 'TRADE_DATE', 'SETTLE_DATE', 'AMOUNT']].copy()\n",
    "            self.transaction_df['AMOUNT'] = self.transaction_df['AMOUNT'].astype(float)\n",
    "            self.transaction_df[\"DESC\"] = \"Internal Transacion\"\n",
    "            self.transaction_df[\"ESTIMATED\"] = \"E\"\n",
    "            self.transaction_df[\"CURRENCY\"] = \"MXN\"\n",
    "            \n",
    "            self.transaction_df[\"TRANSACTION_ID\"] = (self.transaction_df[\"PORTFOLIO_ID\"] \n",
    "                                                     + '_' \n",
    "                                                     + self.transaction_df[\"SETTLE_DATE\"].dt.strftime(\"%Y%m%d\")\n",
    "                                                     + '_'\n",
    "                                                     + self.transaction_df[\"DESC\"].str.replace(' ', \"_\").str.upper()\n",
    "                                                     + '_'\n",
    "                                                     + self.transaction_df[\"ESTIMATED\"]\n",
    "                                                     )\n",
    "            \n",
    "            self.transaction_df['TRADE_DATE'] = self.transaction_df['TRADE_DATE'].dt.strftime(\"%d%m%Y\")\n",
    "            self.transaction_df['SETTLE_DATE'] = self.transaction_df['SETTLE_DATE'].dt.strftime(\"%d%m%Y\")\n",
    "\n",
    "            return\n",
    "        \n",
    "        # main function(clean_data)\n",
    "        _read_file()\n",
    "        _get_layout()\n",
    "        _process_layout()\n",
    "        _set_final_dataframe()\n",
    "        \n",
    "        return"
   ]
  },
  {
   "cell_type": "code",
   "execution_count": 153,
   "metadata": {},
   "outputs": [
    {
     "data": {
      "text/html": [
       "<div>\n",
       "<style scoped>\n",
       "    .dataframe tbody tr th:only-of-type {\n",
       "        vertical-align: middle;\n",
       "    }\n",
       "\n",
       "    .dataframe tbody tr th {\n",
       "        vertical-align: top;\n",
       "    }\n",
       "\n",
       "    .dataframe thead th {\n",
       "        text-align: right;\n",
       "    }\n",
       "</style>\n",
       "<table border=\"1\" class=\"dataframe\">\n",
       "  <thead>\n",
       "    <tr style=\"text-align: right;\">\n",
       "      <th></th>\n",
       "      <th>PORTFOLIO_ID</th>\n",
       "      <th>TRADE_DATE</th>\n",
       "      <th>SETTLE_DATE</th>\n",
       "      <th>AMOUNT</th>\n",
       "      <th>DESC</th>\n",
       "      <th>ESTIMATED</th>\n",
       "      <th>CURRENCY</th>\n",
       "      <th>TRANSACTION_ID</th>\n",
       "    </tr>\n",
       "  </thead>\n",
       "  <tbody>\n",
       "    <tr>\n",
       "      <th>0</th>\n",
       "      <td>559</td>\n",
       "      <td>02062022</td>\n",
       "      <td>03062022</td>\n",
       "      <td>57197.58</td>\n",
       "      <td>Internal Transacion</td>\n",
       "      <td>E</td>\n",
       "      <td>MXN</td>\n",
       "      <td>559_20220603_INTERNAL_TRANSACION_E</td>\n",
       "    </tr>\n",
       "  </tbody>\n",
       "</table>\n",
       "</div>"
      ],
      "text/plain": [
       "  PORTFOLIO_ID TRADE_DATE SETTLE_DATE    AMOUNT                 DESC  \\\n",
       "0          559   02062022    03062022  57197.58  Internal Transacion   \n",
       "\n",
       "  ESTIMATED CURRENCY                      TRANSACTION_ID  \n",
       "0         E      MXN  559_20220603_INTERNAL_TRANSACION_E  "
      ]
     },
     "execution_count": 153,
     "metadata": {},
     "output_type": "execute_result"
    }
   ],
   "source": [
    "test_filename = r\"C:\\Users\\2000076134\\Dev\\OneDrive_1_9-30-2022\\P220602.955\"\n",
    "transaction_data = ProcessFile(test_filename)\n",
    "df = transaction_data.transaction_df\n",
    "df"
   ]
  },
  {
   "cell_type": "code",
   "execution_count": 158,
   "metadata": {},
   "outputs": [
    {
     "name": "stdout",
     "output_type": "stream",
     "text": [
      "<class 'pandas.core.frame.DataFrame'>\n",
      "RangeIndex: 1 entries, 0 to 0\n",
      "Data columns (total 8 columns):\n",
      " #   Column          Non-Null Count  Dtype  \n",
      "---  ------          --------------  -----  \n",
      " 0   PORTFOLIO_ID    1 non-null      object \n",
      " 1   TRADE_DATE      1 non-null      object \n",
      " 2   SETTLE_DATE     1 non-null      object \n",
      " 3   AMOUNT          1 non-null      float64\n",
      " 4   DESC            1 non-null      object \n",
      " 5   ESTIMATED       1 non-null      object \n",
      " 6   CURRENCY        1 non-null      object \n",
      " 7   TRANSACTION_ID  1 non-null      object \n",
      "dtypes: float64(1), object(7)\n",
      "memory usage: 192.0+ bytes\n"
     ]
    }
   ],
   "source": [
    "df.info()"
   ]
  },
  {
   "cell_type": "code",
   "execution_count": 145,
   "metadata": {},
   "outputs": [],
   "source": [
    "import os\n",
    "from datetime import datetime\n",
    "import numpy as np\n",
    "import holidays"
   ]
  },
  {
   "cell_type": "code",
   "execution_count": 154,
   "metadata": {},
   "outputs": [],
   "source": [
    "file_path = r\"C:\\Users\\2000076134\\Dev\\OneDrive_1_9-30-2022\"\n",
    "file_list = os.listdir(file_path)\n",
    "file_list = list(filter(lambda file: re.match('P\\d{6}.\\d{2}', file) ,file_list))"
   ]
  },
  {
   "cell_type": "code",
   "execution_count": 155,
   "metadata": {},
   "outputs": [],
   "source": [
    "source_df = pd.DataFrame()\n",
    "\n",
    "for file in file_list:\n",
    "    file = os.path.join(file_path, file)\n",
    "    transaction_data = ProcessFile(file)\n",
    "    \n",
    "    source_df = pd.concat([source_df, transaction_data.transaction_df])\n",
    "\n",
    "date = datetime.now()\n",
    "#date.strftime(\"%d%m%Y\")\n",
    "n_busday = np.busday_offset(date.date(), 1, roll=\"forward\")\n",
    "n_busday = n_busday.astype(datetime).strftime(\"%d%m%Y\")\n",
    "\n",
    "source_df.to_csv(\"cash_transactions_DATE.csv\".replace(\"DATE\", n_busday))"
   ]
  },
  {
   "cell_type": "code",
   "execution_count": 148,
   "metadata": {},
   "outputs": [
    {
     "name": "stdout",
     "output_type": "stream",
     "text": [
      " Volume in drive C is OS Drive\n",
      " Volume Serial Number is 72E7-FD3C\n",
      "\n",
      " Directory of c:\\Users\\2000076134\\Dev\\PythonTraining_Hexaware\\python_topics\n",
      "\n",
      "09/30/2022  02:05 PM    <DIR>          .\n",
      "09/30/2022  02:05 PM    <DIR>          ..\n",
      "09/30/2022  02:05 PM             1,002 cash_transactions_03102022.csv\n",
      "09/30/2022  01:36 PM            18,692 Exercise.ipynb\n",
      "09/30/2022  12:20 PM               487 layout_config.py\n",
      "09/29/2022  03:22 PM           104,650 Pandas.ipynb\n",
      "09/29/2022  05:18 PM           404,438 Pandas_exercise.ipynb\n",
      "09/30/2022  12:22 PM             1,455 processing.py\n",
      "09/28/2022  10:36 PM            13,996 Python.ipynb\n",
      "09/30/2022  12:20 PM    <DIR>          __pycache__\n",
      "               7 File(s)        544,720 bytes\n",
      "               3 Dir(s)  139,443,974,144 bytes free\n"
     ]
    }
   ],
   "source": [
    "!dir"
   ]
  },
  {
   "cell_type": "code",
   "execution_count": 156,
   "metadata": {},
   "outputs": [
    {
     "name": "stdout",
     "output_type": "stream",
     "text": [
      "2022-01-01 Año Nuevo [New Year's Day]\n",
      "2022-02-05 Día de la Constitución [Constitution Day]\n",
      "2022-02-07 Día de la Constitución [Constitution Day] (Observed)\n",
      "2022-03-21 Natalicio de Benito Juárez [Benito Juárez's birthday] (Observed)\n",
      "2022-05-01 Día del Trabajo [Labour Day]\n",
      "2022-05-02 Día del Trabajo [Labour Day] (Observed)\n",
      "2022-09-16 Día de la Independencia [Independence Day]\n",
      "2022-11-20 Día de la Revolución [Revolution Day]\n",
      "2022-11-21 Día de la Revolución [Revolution Day] (Observed)\n",
      "2022-12-25 Navidad [Christmas]\n",
      "2022-12-26 Transmisión del Poder Ejecutivo Federal [Change of Federal Government] (Observed)\n"
     ]
    }
   ],
   "source": [
    "for datetime_object, name in sorted(holidays.MX(years =2022).items()):\n",
    "    print(datetime_object, name)"
   ]
  },
  {
   "cell_type": "code",
   "execution_count": 118,
   "metadata": {},
   "outputs": [
    {
     "data": {
      "text/html": [
       "<div>\n",
       "<style scoped>\n",
       "    .dataframe tbody tr th:only-of-type {\n",
       "        vertical-align: middle;\n",
       "    }\n",
       "\n",
       "    .dataframe tbody tr th {\n",
       "        vertical-align: top;\n",
       "    }\n",
       "\n",
       "    .dataframe thead th {\n",
       "        text-align: right;\n",
       "    }\n",
       "</style>\n",
       "<table border=\"1\" class=\"dataframe\">\n",
       "  <thead>\n",
       "    <tr style=\"text-align: right;\">\n",
       "      <th></th>\n",
       "      <th>PORTFOLIO_ID</th>\n",
       "      <th>TRADE_DATE</th>\n",
       "      <th>SETTLE_DATE</th>\n",
       "      <th>AMOUNT</th>\n",
       "      <th>DESC</th>\n",
       "      <th>ESTIMATED</th>\n",
       "      <th>CURRENCY</th>\n",
       "      <th>TRANSACTION_ID</th>\n",
       "    </tr>\n",
       "  </thead>\n",
       "  <tbody>\n",
       "    <tr>\n",
       "      <th>0</th>\n",
       "      <td>559</td>\n",
       "      <td>02062022</td>\n",
       "      <td>03062022</td>\n",
       "      <td>57197.58</td>\n",
       "      <td>Internal Transacion</td>\n",
       "      <td>E</td>\n",
       "      <td>MXN</td>\n",
       "      <td>559_20220603_INTERNAL_TRANSACION_E</td>\n",
       "    </tr>\n",
       "    <tr>\n",
       "      <th>0</th>\n",
       "      <td>559</td>\n",
       "      <td>03062022</td>\n",
       "      <td>06062022</td>\n",
       "      <td>171645.18</td>\n",
       "      <td>Internal Transacion</td>\n",
       "      <td>E</td>\n",
       "      <td>MXN</td>\n",
       "      <td>559_20220606_INTERNAL_TRANSACION_E</td>\n",
       "    </tr>\n",
       "    <tr>\n",
       "      <th>0</th>\n",
       "      <td>559</td>\n",
       "      <td>06062022</td>\n",
       "      <td>07062022</td>\n",
       "      <td>57014.87</td>\n",
       "      <td>Internal Transacion</td>\n",
       "      <td>E</td>\n",
       "      <td>MXN</td>\n",
       "      <td>559_20220607_INTERNAL_TRANSACION_E</td>\n",
       "    </tr>\n",
       "    <tr>\n",
       "      <th>0</th>\n",
       "      <td>559</td>\n",
       "      <td>07062022</td>\n",
       "      <td>08062022</td>\n",
       "      <td>56797.52</td>\n",
       "      <td>Internal Transacion</td>\n",
       "      <td>E</td>\n",
       "      <td>MXN</td>\n",
       "      <td>559_20220608_INTERNAL_TRANSACION_E</td>\n",
       "    </tr>\n",
       "    <tr>\n",
       "      <th>0</th>\n",
       "      <td>559</td>\n",
       "      <td>08062022</td>\n",
       "      <td>09062022</td>\n",
       "      <td>56957.92</td>\n",
       "      <td>Internal Transacion</td>\n",
       "      <td>E</td>\n",
       "      <td>MXN</td>\n",
       "      <td>559_20220609_INTERNAL_TRANSACION_E</td>\n",
       "    </tr>\n",
       "    <tr>\n",
       "      <th>0</th>\n",
       "      <td>559</td>\n",
       "      <td>09062022</td>\n",
       "      <td>10062022</td>\n",
       "      <td>56987.03</td>\n",
       "      <td>Internal Transacion</td>\n",
       "      <td>E</td>\n",
       "      <td>MXN</td>\n",
       "      <td>559_20220610_INTERNAL_TRANSACION_E</td>\n",
       "    </tr>\n",
       "    <tr>\n",
       "      <th>0</th>\n",
       "      <td>559</td>\n",
       "      <td>10062022</td>\n",
       "      <td>13062022</td>\n",
       "      <td>170306.84</td>\n",
       "      <td>Internal Transacion</td>\n",
       "      <td>E</td>\n",
       "      <td>MXN</td>\n",
       "      <td>559_20220613_INTERNAL_TRANSACION_E</td>\n",
       "    </tr>\n",
       "    <tr>\n",
       "      <th>0</th>\n",
       "      <td>559</td>\n",
       "      <td>13062022</td>\n",
       "      <td>14062022</td>\n",
       "      <td>56539.68</td>\n",
       "      <td>Internal Transacion</td>\n",
       "      <td>E</td>\n",
       "      <td>MXN</td>\n",
       "      <td>559_20220614_INTERNAL_TRANSACION_E</td>\n",
       "    </tr>\n",
       "    <tr>\n",
       "      <th>0</th>\n",
       "      <td>559</td>\n",
       "      <td>14062022</td>\n",
       "      <td>15062022</td>\n",
       "      <td>56199.54</td>\n",
       "      <td>Internal Transacion</td>\n",
       "      <td>E</td>\n",
       "      <td>MXN</td>\n",
       "      <td>559_20220615_INTERNAL_TRANSACION_E</td>\n",
       "    </tr>\n",
       "  </tbody>\n",
       "</table>\n",
       "</div>"
      ],
      "text/plain": [
       "  PORTFOLIO_ID TRADE_DATE SETTLE_DATE           AMOUNT                 DESC  \\\n",
       "0          559   02062022    03062022         57197.58  Internal Transacion   \n",
       "0          559   03062022    06062022        171645.18  Internal Transacion   \n",
       "0          559   06062022    07062022         57014.87  Internal Transacion   \n",
       "0          559   07062022    08062022         56797.52  Internal Transacion   \n",
       "0          559   08062022    09062022         56957.92  Internal Transacion   \n",
       "0          559   09062022    10062022         56987.03  Internal Transacion   \n",
       "0          559   10062022    13062022        170306.84  Internal Transacion   \n",
       "0          559   13062022    14062022         56539.68  Internal Transacion   \n",
       "0          559   14062022    15062022         56199.54  Internal Transacion   \n",
       "\n",
       "  ESTIMATED CURRENCY                      TRANSACTION_ID  \n",
       "0         E      MXN  559_20220603_INTERNAL_TRANSACION_E  \n",
       "0         E      MXN  559_20220606_INTERNAL_TRANSACION_E  \n",
       "0         E      MXN  559_20220607_INTERNAL_TRANSACION_E  \n",
       "0         E      MXN  559_20220608_INTERNAL_TRANSACION_E  \n",
       "0         E      MXN  559_20220609_INTERNAL_TRANSACION_E  \n",
       "0         E      MXN  559_20220610_INTERNAL_TRANSACION_E  \n",
       "0         E      MXN  559_20220613_INTERNAL_TRANSACION_E  \n",
       "0         E      MXN  559_20220614_INTERNAL_TRANSACION_E  \n",
       "0         E      MXN  559_20220615_INTERNAL_TRANSACION_E  "
      ]
     },
     "execution_count": 118,
     "metadata": {},
     "output_type": "execute_result"
    }
   ],
   "source": [
    "source_df"
   ]
  },
  {
   "cell_type": "code",
   "execution_count": null,
   "metadata": {},
   "outputs": [],
   "source": []
  },
  {
   "cell_type": "code",
   "execution_count": 86,
   "metadata": {},
   "outputs": [],
   "source": [
    "s = 'P220602.955'"
   ]
  },
  {
   "cell_type": "code",
   "execution_count": 92,
   "metadata": {},
   "outputs": [
    {
     "data": {
      "text/plain": [
       "True"
      ]
     },
     "execution_count": 92,
     "metadata": {},
     "output_type": "execute_result"
    }
   ],
   "source": [
    "s.split(\".\")[1].isdigit()"
   ]
  },
  {
   "cell_type": "code",
   "execution_count": 96,
   "metadata": {},
   "outputs": [
    {
     "data": {
      "text/plain": [
       "True"
      ]
     },
     "execution_count": 96,
     "metadata": {},
     "output_type": "execute_result"
    }
   ],
   "source": [
    "len(s.split(\".\")[1]) == 3"
   ]
  },
  {
   "cell_type": "code",
   "execution_count": 97,
   "metadata": {},
   "outputs": [
    {
     "data": {
      "text/plain": [
       "['P220602.955',\n",
       " 'P220603.955',\n",
       " 'P220606.955',\n",
       " 'P220607.955',\n",
       " 'P220608.955',\n",
       " 'P220609.955',\n",
       " 'P220610.955',\n",
       " 'P220613.955',\n",
       " 'P220614.955']"
      ]
     },
     "execution_count": 97,
     "metadata": {},
     "output_type": "execute_result"
    }
   ],
   "source": [
    "[file for file in file_list\n",
    " if file.startswith(\"P\") and s.split(\".\")[1].isdigit()]"
   ]
  },
  {
   "cell_type": "code",
   "execution_count": 98,
   "metadata": {},
   "outputs": [],
   "source": [
    "import re"
   ]
  },
  {
   "cell_type": "code",
   "execution_count": 103,
   "metadata": {},
   "outputs": [
    {
     "data": {
      "text/plain": [
       "['P220602.955',\n",
       " 'P220603.955',\n",
       " 'P220606.955',\n",
       " 'P220607.955',\n",
       " 'P220608.955',\n",
       " 'P220609.955',\n",
       " 'P220610.955',\n",
       " 'P220613.955',\n",
       " 'P220614.955']"
      ]
     },
     "execution_count": 103,
     "metadata": {},
     "output_type": "execute_result"
    }
   ],
   "source": [
    "[file for file in file_list \n",
    " if re.match('P\\d{6}.\\d{2}', file)]"
   ]
  },
  {
   "cell_type": "code",
   "execution_count": 105,
   "metadata": {},
   "outputs": [
    {
     "data": {
      "text/plain": [
       "['P220602.955',\n",
       " 'P220603.955',\n",
       " 'P220606.955',\n",
       " 'P220607.955',\n",
       " 'P220608.955',\n",
       " 'P220609.955',\n",
       " 'P220610.955',\n",
       " 'P220613.955',\n",
       " 'P220614.955']"
      ]
     },
     "execution_count": 105,
     "metadata": {},
     "output_type": "execute_result"
    }
   ],
   "source": [
    "list(filter(lambda file: re.match('P\\d{6}.\\d{2}', file) ,file_list))"
   ]
  },
  {
   "cell_type": "code",
   "execution_count": null,
   "metadata": {},
   "outputs": [],
   "source": []
  }
 ],
 "metadata": {
  "kernelspec": {
   "display_name": "Python 3.9.12 ('base')",
   "language": "python",
   "name": "python3"
  },
  "language_info": {
   "codemirror_mode": {
    "name": "ipython",
    "version": 3
   },
   "file_extension": ".py",
   "mimetype": "text/x-python",
   "name": "python",
   "nbconvert_exporter": "python",
   "pygments_lexer": "ipython3",
   "version": "3.9.12"
  },
  "orig_nbformat": 4,
  "vscode": {
   "interpreter": {
    "hash": "3724d0f5762a99e6839fb4dbd4bdb548a98954709a09840cb011f6ea2b5eaba8"
   }
  }
 },
 "nbformat": 4,
 "nbformat_minor": 2
}
