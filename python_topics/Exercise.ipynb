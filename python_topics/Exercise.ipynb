{
 "cells": [
  {
   "cell_type": "markdown",
   "metadata": {},
   "source": [
    "# Exercise  \n",
    "\n",
    "We have a layout file giving us the information on how we must interprete each file.\n",
    "\n",
    "Files have their generation date in the file name with the format PYYMMDD.\n",
    "\n",
    "We must create a class that takes each file, translates it and returns to us a DataFrame.\n",
    "\n",
    "The dataframe columns must be:  \n",
    "ID as portfolio_ID   \n",
    "target ID as Amount   \n",
    "operation date as trade date  \n",
    "valuation date as settle date  \n",
    "operation descritpion as desc (Internal Transaction)  \n",
    "A column named estimation with values (E)  \n",
    "We must include a column with the currency (MXN)  \n",
    "And a column with a transaction_ID by concatenating three fields: portfolio_ID, Settle_date, operation descrition   \n",
    "\n",
    "The final file must have all the processed transactions and have the filename generated with the next business day \n",
    "\"cash_transactions_DATE.csv\""
   ]
  },
  {
   "cell_type": "markdown",
   "metadata": {},
   "source": []
  },
  {
   "cell_type": "code",
   "execution_count": 14,
   "metadata": {},
   "outputs": [],
   "source": [
    "import pandas as pd"
   ]
  },
  {
   "cell_type": "code",
   "execution_count": 3,
   "metadata": {},
   "outputs": [],
   "source": []
  },
  {
   "cell_type": "code",
   "execution_count": 35,
   "metadata": {},
   "outputs": [
    {
     "name": "stdout",
     "output_type": "stream",
     "text": [
      "Writing layout_config.py\n"
     ]
    }
   ],
   "source": [
    "%%writefile layout_config.py\n",
    "LAYOUT_MAPPING = {\n",
    "    \"ID\":(1,3),\n",
    "    \"Price\":(4,15),\n",
    "    \"OPERATION DATE\":(16,23),\n",
    "    \"VALUATION DATE\":(24,31),\n",
    "    \"TARGET VALUE\":(32,46),\n",
    "    \"AMOUNT 1\":(47,63),\n",
    "    \"AMOUNT 2\":(64,80),\n",
    "    \"AMOUNT 3\":(81,97),\n",
    "    \"AMOUNT 4\":(98,114),\n",
    "    \"AMOUNT 5\":(115,131),\n",
    "    \"AMOUNT 6\":(132,148),\n",
    "    \"AMOUNT 7\":(149,165)\n",
    "}"
   ]
  },
  {
   "cell_type": "code",
   "execution_count": 44,
   "metadata": {},
   "outputs": [],
   "source": [
    "from layout_config import LAYOUT_MAPPING\n",
    "\n",
    "class ProcessFile():\n",
    "    def __init__(self, filename):\n",
    "        self._filename = filename\n",
    "        \n",
    "        self.clean_data()\n",
    "    \n",
    "    def clean_data(self):\n",
    "    \n",
    "        def _read_file():\n",
    "            with open(self._filename, \"r\") as Pfile:\n",
    "                self.string = Pfile.read()  \n",
    "            \n",
    "            return  \n",
    "        \n",
    "        def _get_layout():\n",
    "            get_interval = lambda target_string, interval: target_string[interval[0] -1:interval[1]] \n",
    "            self.layout = {key:get_interval(self.string, interval) for key, interval in LAYOUT_MAPPING.items()}\n",
    "            \n",
    "            return\n",
    "    \n",
    "        def _process_layout():\n",
    "            self.layout_df = pd.DataFrame.from_dict(self.layout, orient=\"index\").T\n",
    "            self.layout_df[[\"OPERATION DATE\", \"VALUATION DATE\"]] = self.layout_df[[\"OPERATION DATE\", \"VALUATION DATE\"]].apply(pd.to_datetime)\n",
    "\n",
    "            return\n",
    "        \n",
    "        def _set_final_dataframe():\n",
    "            pass\n",
    "        \n",
    "            return\n",
    "        \n",
    "        # main function(clean_data)\n",
    "        _read_file()\n",
    "        _get_layout()\n",
    "        _process_layout()\n",
    "        _set_final_dataframe()\n",
    "        \n",
    "        return\n",
    "    "
   ]
  },
  {
   "cell_type": "code",
   "execution_count": 45,
   "metadata": {},
   "outputs": [],
   "source": [
    "test_filename = r\"C:\\Users\\2000076134\\Dev\\OneDrive_1_9-30-2022\\P220602.955\"\n",
    "transaction_data = ProcessFile(test_filename)"
   ]
  },
  {
   "cell_type": "code",
   "execution_count": null,
   "metadata": {},
   "outputs": [],
   "source": []
  }
 ],
 "metadata": {
  "kernelspec": {
   "display_name": "Python 3.9.12 ('base')",
   "language": "python",
   "name": "python3"
  },
  "language_info": {
   "codemirror_mode": {
    "name": "ipython",
    "version": 3
   },
   "file_extension": ".py",
   "mimetype": "text/x-python",
   "name": "python",
   "nbconvert_exporter": "python",
   "pygments_lexer": "ipython3",
   "version": "3.9.12"
  },
  "orig_nbformat": 4,
  "vscode": {
   "interpreter": {
    "hash": "3724d0f5762a99e6839fb4dbd4bdb548a98954709a09840cb011f6ea2b5eaba8"
   }
  }
 },
 "nbformat": 4,
 "nbformat_minor": 2
}
