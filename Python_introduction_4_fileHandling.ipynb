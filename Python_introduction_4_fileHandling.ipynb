{
 "cells": [
  {
   "attachments": {},
   "cell_type": "markdown",
   "metadata": {},
   "source": [
    "# Receiving Data\n",
    "\n",
    "Normally you will receive data by opening files, rarely using the arguments from the terminal and very rarely directly from the keyboard. However we will detail how to get data from the keyboard and then opening files, we will not review getting parameters from the terminal."
   ]
  },
  {
   "cell_type": "markdown",
   "metadata": {},
   "source": [
    "## Keyboard o stidn"
   ]
  },
  {
   "cell_type": "code",
   "execution_count": null,
   "metadata": {},
   "outputs": [],
   "source": [
    "a = input(\"Input your number: \")\n",
    "print(a)"
   ]
  },
  {
   "attachments": {},
   "cell_type": "markdown",
   "metadata": {},
   "source": [
    "## Opening Files  \n",
    "\n",
    "File handling is an important aspect of programming, as it allows you to read from and write to files on your computer. In Python, you can use the built-in `open` function to open a file and perform various operations, such as reading from or writing to the file.\n",
    "\n",
    "### Reading\n",
    "Here's an example of how to read the contents of a file:\n",
    "\n",
    "```python\n",
    "# Open the file in read mode\n",
    "with open(\"file.txt\", \"r\") as file_handler:\n",
    "    # Read the contents of the file\n",
    "    contents = file_handler.read()\n",
    "    print(contents)\n",
    "```\n",
    "\n",
    "In this example, the `open` function is used to open the file \"file.txt\" in read mode (denoted by the `\"r\"` argument). The `with` statement is used to ensure that the file is properly closed, even if an exception is raised during the execution of the code block. The `file.read()` method is then used to read the `contents` of the file and store them in the contents variable. Finally, the contents are printed to the console.\n",
    "\n",
    "### Writing\n",
    "Here's an example of how to write to a file:\n",
    "\n",
    "```python\n",
    "# Open the file in write mode\n",
    "with open(\"file.txt\", \"w\") as file_handler:\n",
    "    # Write to the file\n",
    "    file_handler.write(\"Hello, World!\")\n",
    "```\n",
    "\n",
    "In this example, the `open` function is used to open the file \"file.txt\" in write mode (denoted by the `\"w\"` argument). The `with` statement is used to ensure that the file is properly closed, even if an exception is raised during the execution of the code block. The `file.write` method is then used to write the string \"Hello, World!\" to the file.\n",
    "\n",
    "### Options to open a file\n",
    "\n",
    "Here is a table of the options available for reading a file in Python using the `open` function:\n",
    "\n",
    "Option | Description\n",
    "------- | -----------\n",
    "\"r\" | Open the file for reading (default).\n",
    "\"w\" | Open the file for writing. If the file already exists, its contents will be overwritten. If the file does not exist, a new file will be created.\n",
    "\"a\" | Open the file for appending. Any new data written to the file will be added to the end of the file, without overwriting its existing contents.\n",
    "\"x\" | Open the file for exclusive creation. If the file already exists, an error will be raised. This option is only available in Python 3.3 and later.\n",
    "\"b\" | Open the file in binary mode. The file contents are read as binary data and can be manipulated as bytes.\n",
    "\"+\" | Open the file for both reading and writing.\n",
    "\n",
    "### Other ways to open a file\n",
    "Python allows to open files in an easy and simple way, there is more than one way to do it and depending on the order and care you take it doesn't matter which one you use (but I will recommend you to use the `with` statement), here is a way to do it in which you must close the file explicitly after using it.\n",
    "\n",
    "```python\n",
    "file_handler = open(\"file.txt\", \"r\") # Open the file\n",
    "count_lines = 0\n",
    "for line in file_handler:\n",
    "    # Conditions were set so that the entire file would not be printed.\n",
    "    if icount_lines > 9:\n",
    "        break\n",
    "    else:\n",
    "        print(line)\n",
    "        count_lines += 1\n",
    "file_handler.close()\n",
    "```\n"
   ]
  },
  {
   "attachments": {},
   "cell_type": "markdown",
   "metadata": {},
   "source": [
    "### With statement\n",
    "The `with` statement in Python is a convenient way to manage resources, such as file handles, network connections, and other objects that need to be cleaned up after they are used. The `with` statement provides a way to wrap the use of a resource with a block of code, ensuring that the resource is automatically cleaned up even if an exception is raised.\n",
    "\n",
    "The general syntax for the with statement is as follows:\n",
    "```python\n",
    "with expression [as variable]:\n",
    "    # code to use resource here\n",
    "```\n",
    "The expression is an object that provides the `__enter__` and `__exit__` methods. The `__enter__` method is called when the block of code is entered, and it returns the resource to be used in the block. The `__exit__` method is called when the block is exited, and it is responsible for cleaning up the resource."
   ]
  },
  {
   "cell_type": "code",
   "execution_count": null,
   "metadata": {},
   "outputs": [],
   "source": [
    "with open() as file_handler: # Insert the path to the file you want to open\n",
    "    i = 0\n",
    "    for line in file_handler:\n",
    "        # Conditions were set so that the entire file would not be printed.\n",
    "        if i > 9:\n",
    "            break\n",
    "        else:\n",
    "            print(line)\n",
    "            i = i + 1"
   ]
  },
  {
   "cell_type": "code",
   "execution_count": null,
   "metadata": {},
   "outputs": [],
   "source": [
    "for line in file_handler:\n",
    "    print(line)"
   ]
  },
  {
   "attachments": {},
   "cell_type": "markdown",
   "metadata": {},
   "source": [
    "As you can see the file was closed even though it was never made explicit that the file should be closed, if there had been an error in the middle of the code this would have protected it. The operation of the object `with` is based on the fact that the object that is receiving to initialize itself (remember that in python everything is objects) has two methods, `__enter__` that is in charge of executing the code and making a return and `__exit__` that is in charge of closing or freeing the memory independently of the result."
   ]
  },
  {
   "attachments": {},
   "cell_type": "markdown",
   "metadata": {},
   "source": [
    "> Content created by **Carlos Cruz-Maldonado**.  \n",
    "> Feel free to ping me at any time."
   ]
  },
  {
   "cell_type": "markdown",
   "metadata": {},
   "source": []
  }
 ],
 "metadata": {
  "kernelspec": {
   "display_name": "personal",
   "language": "python",
   "name": "python3"
  },
  "language_info": {
   "name": "python",
   "version": "3.7.9"
  },
  "orig_nbformat": 4,
  "vscode": {
   "interpreter": {
    "hash": "252948c43895fb2cefa730c41b16e760efc56873c993d09cfc8bab107a8b51fd"
   }
  }
 },
 "nbformat": 4,
 "nbformat_minor": 2
}
