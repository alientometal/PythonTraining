{
 "cells": [
  {
   "cell_type": "markdown",
   "metadata": {},
   "source": [
    "# Unit Testing in Python"
   ]
  },
  {
   "cell_type": "markdown",
   "metadata": {},
   "source": [
    " ## Introduction "
   ]
  },
  {
   "cell_type": "markdown",
   "metadata": {},
   "source": [
    "Since time immemorial we have known that mistakes are inherent to human nature. But the important thing is to learn from them and avoid repeating them. This is easier said than done, because for that we have to recognize beforehand that we are not perfect and have enough humility to accept it, as well as the determination to move forward. \n",
    "Taking this into account, we know that when developing a software solution we can make mistakes and to anticipate errors it is very useful to test before the code reaches production.\n",
    "Some of the main reasons for testing are the following:\n",
    "\n",
    "* It is absolutely essential to identify errors that have been made in the [development phases](https://www.docpath.com/art-the-importance-of-testing-your-software-development/).\n",
    "* It guarantees that the software is reliable and ensures customer satisfaction.\n",
    "* It guarantees the quality of the product, which ultimately leads to customer loyalty.\n",
    "* Reduces maintenance costs.\n",
    "\n",
    "## Unit Tests\n",
    "It is a way to check that a set of functions or classes (as many as we want) work as we expect. Logically, unit tests can never completely guarantee the correct functioning of a piece of code. Nevertheless, they will be able to detect a lot of anomalies and save us debugging time.\n",
    "\n",
    "In this case we will use [pytest](https://docs.pytest.org/en/latest/) to perform the tests in a simpler way.\n",
    "\n",
    "## Integration Tests\n",
    "Integration tests verify that the different modules and/or services used by our application work in harmony when working together.\n",
    "\n",
    "They may test interaction with one or multiple databases, or ensure that microservices operate as expected.\n",
    "Integration tests are typically the next step after unit tests.\n",
    "\n",
    "And they are generally more expensive to run, as they require more parts of our application to be configured and running.\n",
    "\n",
    "## Mocking\n",
    "In Object Oriented Programming (OOP), objects that mimic the behavior of real objects in a controlled way are called Mock. They are used to test other objects in unit tests that expect messages from a particular class for their methods, just as car designers use a crash dummy when simulating an accident. \n",
    "In unit tests, dummy objects are used to simulate the behavior of complex objects when it is impossible or impractical to use the real object in the test. Incidentally, it solves the problem of the case of interdependent objects, that in order to test the first one an untested object must be used, which invalidates the test: simulated objects are very simple to build and return a certain and directly implementable result, independently of the complex processes or interactions that the real object may have."
   ]
  },
  {
   "cell_type": "markdown",
   "metadata": {},
   "source": [
    "First we are going to install pytest with the following command `pip install pytest`   \n",
    "Then, we are going to create a test_example.py file.   \n",
    "**Note: files containing tests ALWAYS must have the test prefix (test_) or suffix (_test)**  "
   ]
  },
  {
   "cell_type": "code",
   "execution_count": 2,
   "metadata": {},
   "outputs": [
    {
     "name": "stdout",
     "output_type": "stream",
     "text": [
      "Writing test/test_example.py\n"
     ]
    }
   ],
   "source": [
    "%%writefile test/test_example.py\n",
    "# test_example.py code\n",
    "def add(x):\n",
    "    return x + 1\n",
    "\n",
    "def add_list(list):\n",
    "    return sum(list)\n",
    "\n",
    "def test_add_list():\n",
    "    assert add_list([1, 2, 3]) == 6, \"Result must be 6\"\n",
    "\n",
    "def test_add():\n",
    "    print(\"Adding test\")\n",
    "    assert add(3) == 4, \"Result must be 4\""
   ]
  },
  {
   "cell_type": "markdown",
   "metadata": {},
   "source": [
    "Then we must change directory to test and run the `pytest` command on command line or specify the file we want to test `pytest test_example.py`."
   ]
  },
  {
   "cell_type": "markdown",
   "metadata": {},
   "source": [
    "In some tests you may want the function to fail, this helps us to know that even though you sent incorrect information or used the function incorrectly, it does not behave in a wrong way (e.g. by letting the error through)."
   ]
  },
  {
   "cell_type": "code",
   "execution_count": 5,
   "metadata": {},
   "outputs": [
    {
     "name": "stdout",
     "output_type": "stream",
     "text": [
      "Overwriting test/test_example_division.py\n"
     ]
    }
   ],
   "source": [
    "%%writefile test/test_example_division.py\n",
    "# test_example_division.py code\n",
    "import pytest\n",
    "def test_zero_division():\n",
    "    with pytest.raises(ZeroDivisionError):\n",
    "        1/0\n",
    "        \n",
    "def test_recursion_depth():\n",
    "    with pytest.raises(RecursionError) as excinfo:\n",
    "        def f():\n",
    "            f()\n",
    "        f()\n",
    "    assert 'maxima recursión' in str(excinfo.value)\n",
    "    \n",
    "def divide(number_one, number_two):\n",
    "    if number_two == 0:\n",
    "        raise ValueError('Cannot be divided with this value')\n",
    "    return number_one / number_two\n",
    " \n",
    "def test_zero_division():\n",
    "    with pytest.raises(ValueError) as e:\n",
    "        divide(1, 0)\n",
    "    assert str(e.value) == 'Cannot be divided with this value' "
   ]
  },
  {
   "cell_type": "markdown",
   "metadata": {},
   "source": [
    "Exercise:  \n",
    "    - The following code detects if a number belongs to the fibonacci sequence, create the necessary tests to test the function.  \n",
    "    - Remember to save this function in a different file than the test, which means that we have to import the code of this function to our tests file."
   ]
  },
  {
   "cell_type": "code",
   "execution_count": 26,
   "metadata": {},
   "outputs": [
    {
     "name": "stdout",
     "output_type": "stream",
     "text": [
      "Overwriting fibonacci.py\n"
     ]
    }
   ],
   "source": [
    "%%writefile fibonacci.py\n",
    "import math \n",
    "  \n",
    "def isPerfectSquare(x): \n",
    "    s = int(math.sqrt(x)) \n",
    "    return s*s == x \n",
    "  \n",
    "# Returns true if n is a Fibonacci number.  \n",
    "def isFibonacci(n): \n",
    "    \n",
    "    if type(n) == float:\n",
    "        raise ValueError(\"Floats are not supported\")\n",
    "    elif type(n) == str:\n",
    "        raise TypeError(\"Strings are not supported\")\n",
    "    elif n < 0:\n",
    "        raise ValueError(\"Negatives are not supported\")\n",
    "    \n",
    "    # n is Fibonacci if one of 5*n*n + 4 or 5*n*n - 4 or both\n",
    "    # is a perfect square\n",
    "    return isPerfectSquare(5*n*n + 4) or isPerfectSquare(5*n*n - 4)\n",
    "\n",
    "class FiboNumbers(object):\n",
    "    def get_sequence(self):\n",
    "        pass\n",
    "    \n",
    "    return\n",
    "    \n",
    "    \n",
    "    \n",
    "def main():      \n",
    "    for i in range(1,11): \n",
    "        if (isFibonacci(i) == True): \n",
    "            print(i,\"Is a fibonacci number\")\n",
    "        else: \n",
    "            print(i,\"Is not a fibonacci number\")\n",
    "    return\n",
    "\n",
    "if __name__ == \"__main__\": \n",
    "    main()"
   ]
  },
  {
   "cell_type": "code",
   "execution_count": 27,
   "metadata": {},
   "outputs": [
    {
     "name": "stdout",
     "output_type": "stream",
     "text": [
      "Overwriting test\\test_fibo.py\n"
     ]
    }
   ],
   "source": [
    "%%writefile test\\test_fibo.py\n",
    "import unit_testing.fibonacci as fi\n",
    "import pytest\n",
    "\n",
    "# Successfull assertion \n",
    "@pytest.mark.parametrize(\n",
    "    \"number,expected\",\n",
    "    [\n",
    "        (3, True),\n",
    "        (6, False),\n",
    "        (13, True)\n",
    "    ]\n",
    ")\n",
    "def test_isFibonacci(number, expected):\n",
    "    assert fi.isFibonacci(number) == expected\n",
    "    \n",
    "# Failure assertion\n",
    "def test_notFibonacci():\n",
    "    assert fi.isFibonacci(6) == False, \"Must be false\"\n",
    "\n",
    "def test_floatFibonacci():\n",
    "    with pytest.raises(ValueError) as err:\n",
    "        fi.isFibonacci(3.0)\n",
    "    assert str(err.value) == \"Floats are not supported\"\n",
    "    \n",
    "def test_stringFibonacci():\n",
    "    with pytest.raises(TypeError) as err:\n",
    "        fi.isFibonacci('3')\n",
    "    assert str(err.value) == \"Strings are not supported\"\n",
    "\n",
    "def test_negativesFibonacci():\n",
    "    with pytest.raises(ValueError) as err:\n",
    "        fi.isFibonacci(-3)\n",
    "    assert str(err.value) == \"Negatives are not supported\"\n",
    "    \n",
    "    \n",
    "def test_FiboSequence(monkeypatch):\n",
    "    monkeypatch.setattr(fi.FiboNumbers, \"get_sequence\", lambda x: [1,1,2,3,5])\n",
    "    Fibo = fi.FiboNumbers()\n",
    "    assert Fibo.get_sequence() == [1,1,2,3,5]"
   ]
  },
  {
   "cell_type": "code",
   "execution_count": 21,
   "metadata": {},
   "outputs": [
    {
     "ename": "ValueError",
     "evalue": "invalid literal for int() with base 10: 'd'",
     "output_type": "error",
     "traceback": [
      "\u001b[1;31m---------------------------------------------------------------------------\u001b[0m",
      "\u001b[1;31mValueError\u001b[0m                                Traceback (most recent call last)",
      "\u001b[1;32mc:\\Users\\2000076134\\Dev\\PythonTraining_Hexaware\\unit_testing\\python_unit_testing.ipynb Cell 12\u001b[0m in \u001b[0;36m<cell line: 2>\u001b[1;34m()\u001b[0m\n\u001b[0;32m      <a href='vscode-notebook-cell:/c%3A/Users/2000076134/Dev/PythonTraining_Hexaware/unit_testing/python_unit_testing.ipynb#X14sZmlsZQ%3D%3D?line=0'>1</a>\u001b[0m \u001b[39mimport\u001b[39;00m \u001b[39mmath\u001b[39;00m\n\u001b[1;32m----> <a href='vscode-notebook-cell:/c%3A/Users/2000076134/Dev/PythonTraining_Hexaware/unit_testing/python_unit_testing.ipynb#X14sZmlsZQ%3D%3D?line=1'>2</a>\u001b[0m \u001b[39mint\u001b[39;49m(\u001b[39m'\u001b[39;49m\u001b[39md\u001b[39;49m\u001b[39m'\u001b[39;49m)\n",
      "\u001b[1;31mValueError\u001b[0m: invalid literal for int() with base 10: 'd'"
     ]
    }
   ],
   "source": [
    "import math\n",
    "int('d') "
   ]
  },
  {
   "cell_type": "code",
   "execution_count": null,
   "metadata": {},
   "outputs": [],
   "source": []
  }
 ],
 "metadata": {
  "kernelspec": {
   "display_name": "Python 3.9.12 ('base')",
   "language": "python",
   "name": "python3"
  },
  "language_info": {
   "codemirror_mode": {
    "name": "ipython",
    "version": 3
   },
   "file_extension": ".py",
   "mimetype": "text/x-python",
   "name": "python",
   "nbconvert_exporter": "python",
   "pygments_lexer": "ipython3",
   "version": "3.9.12"
  },
  "vscode": {
   "interpreter": {
    "hash": "3724d0f5762a99e6839fb4dbd4bdb548a98954709a09840cb011f6ea2b5eaba8"
   }
  }
 },
 "nbformat": 4,
 "nbformat_minor": 4
}
