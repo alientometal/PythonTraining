{
 "cells": [
  {
   "cell_type": "markdown",
   "metadata": {},
   "source": [
    "# Markdown in Jupyter notebooks\n",
    "Markdown is a popular markup language that is a superset of HTML. Text can be added to Jupyter Notebooks using Markdown cells. You can change the cell type to Markdown by using the key shortcut `Esc + m` or directly specifiying in the toolbar menu. <a href= >Here</a> is the documentation with some examples.\n",
    "\n",
    "# Ipython\n",
    "\n",
    "IPython stands for interactive python, it is a powerfull interactive shell that provides a Python kernel for Jupyter notebooks and other interactive frontends.\n",
    "\n",
    "One of the most useful features of Ipython are the magic commands.\n",
    "\n",
    "## Magic commands\n",
    "\n",
    "IPython kernel uses the `%` syntax element for Magics as `%` is not a valid unary operator in Python. Here we show some useful IPython Magics\n",
    "\n",
    "[matplotlib](https://ipython.readthedocs.io/en/stable/interactive/magics.html#magic-matplotlib) - To enable the inline backend for usage with the Jupyter Notebook:\n",
    "```Python\n",
    "%matplotlib inline\n",
    "```\n",
    "\n",
    "[pip](https://ipython.readthedocs.io/en/stable/interactive/magics.html#magic-pip) - Run the pip package manager within the current kernel.\n",
    "```Python\n",
    "%pip\n",
    "```\n",
    "\n",
    "[pwd](https://ipython.readthedocs.io/en/stable/interactive/magics.html#magic-pwd) - Return the current working directory path.\n",
    "```Python\n",
    "%pwd\n",
    "```\n",
    "\n",
    "[reload_ext](https://ipython.readthedocs.io/en/stable/interactive/magics.html#magic-reload_ext) - Reload an IPython extension by its module name.\n",
    "```Python\n",
    "%reload_ext\n",
    "```\n",
    "\n",
    "[run](https://ipython.readthedocs.io/en/stable/interactive/magics.html#magic-run) - Run the named file inside IPython as a program.\n",
    "```Python\n",
    "%run\n",
    "```\n",
    "\n",
    "[writefile](https://ipython.readthedocs.io/en/stable/interactive/magics.html#cellmagic-writefile) - Write the contents of the cell to a file.\n",
    "```Python\n",
    "%%writefile\n",
    "```\n",
    "\n",
    "[timeit](https://ipython.readthedocs.io/en/stable/interactive/magics.html#magic-timeit) - Time execution of a Python statement or expression. \n",
    "```Python\n",
    "# Usage in line mode:\n",
    "%timeit\n",
    "\n",
    "# Usage in cell mode:\n",
    "%%timeit\n",
    "```"
   ]
  },
  {
   "cell_type": "markdown",
   "metadata": {},
   "source": []
  },
  {
   "cell_type": "code",
   "execution_count": 1,
   "metadata": {},
   "outputs": [
    {
     "name": "stdout",
     "output_type": "stream",
     "text": [
      "You are printing me\n"
     ]
    }
   ],
   "source": [
    "import script"
   ]
  },
  {
   "cell_type": "code",
   "execution_count": 2,
   "metadata": {},
   "outputs": [
    {
     "name": "stdout",
     "output_type": "stream",
     "text": [
      "hello world!\n"
     ]
    }
   ],
   "source": [
    "script.main()"
   ]
  },
  {
   "cell_type": "code",
   "execution_count": 3,
   "metadata": {},
   "outputs": [],
   "source": [
    "%reload_ext autoreload\n",
    "%autoreload 2"
   ]
  },
  {
   "cell_type": "code",
   "execution_count": 7,
   "metadata": {},
   "outputs": [
    {
     "name": "stdout",
     "output_type": "stream",
     "text": [
      "hello!\n",
      "hiiii! \n"
     ]
    }
   ],
   "source": [
    "script.main()"
   ]
  },
  {
   "cell_type": "code",
   "execution_count": 8,
   "metadata": {},
   "outputs": [
    {
     "name": "stdout",
     "output_type": "stream",
     "text": [
      "asttokens @ file:///home/conda/feedstock_root/build_artifacts/asttokens_1618968359944/work\n",
      "backcall @ file:///home/conda/feedstock_root/build_artifacts/backcall_1592338393461/work\n",
      "backports.functools-lru-cache @ file:///home/conda/feedstock_root/build_artifacts/backports.functools_lru_cache_1618230623929/work\n",
      "brotlipy==0.7.0\n",
      "certifi==2022.6.15\n",
      "cffi @ file:///C:/ci_310/cffi_1642682485096/work\n",
      "charset-normalizer @ file:///tmp/build/80754af9/charset-normalizer_1630003229654/work\n",
      "colorama @ file:///tmp/build/80754af9/colorama_1607707115595/work\n",
      "conda==4.13.0\n",
      "conda-content-trust @ file:///tmp/build/80754af9/conda-content-trust_1617045594566/work\n",
      "conda-package-handling @ file:///C:/ci/conda-package-handling_1649106011304/work\n",
      "cryptography @ file:///C:/ci/cryptography_1639414720302/work\n",
      "debugpy @ file:///D:/bld/debugpy_1649586515543/work\n",
      "decorator @ file:///home/conda/feedstock_root/build_artifacts/decorator_1641555617451/work\n",
      "entrypoints @ file:///home/conda/feedstock_root/build_artifacts/entrypoints_1643888246732/work\n",
      "executing @ file:///home/conda/feedstock_root/build_artifacts/executing_1658852325129/work\n",
      "idna @ file:///tmp/build/80754af9/idna_1637925883363/work\n",
      "ipykernel @ file:///D:/bld/ipykernel_1657295151080/work\n",
      "ipython @ file:///D:/bld/ipython_1653755080319/work\n",
      "jedi @ file:///D:/bld/jedi_1649067332918/work\n",
      "jupyter-client @ file:///home/conda/feedstock_root/build_artifacts/jupyter_client_1654730843242/work\n",
      "jupyter_core @ file:///D:/bld/jupyter_core_1658332470282/work\n",
      "matplotlib-inline @ file:///home/conda/feedstock_root/build_artifacts/matplotlib-inline_1631080358261/work\n",
      "menuinst @ file:///C:/ci/menuinst_1631733438520/work\n",
      "nest-asyncio @ file:///home/conda/feedstock_root/build_artifacts/nest-asyncio_1648959695634/work\n",
      "packaging @ file:///home/conda/feedstock_root/build_artifacts/packaging_1637239678211/work\n",
      "parso @ file:///home/conda/feedstock_root/build_artifacts/parso_1638334955874/work\n",
      "pickleshare @ file:///home/conda/feedstock_root/build_artifacts/pickleshare_1602536217715/work\n",
      "prompt-toolkit @ file:///home/conda/feedstock_root/build_artifacts/prompt-toolkit_1656332401605/work\n",
      "psutil @ file:///D:/bld/psutil_1653089392436/work\n",
      "pure-eval @ file:///home/conda/feedstock_root/build_artifacts/pure_eval_1642875951954/work\n",
      "pycosat==0.6.3\n",
      "pycparser @ file:///tmp/build/80754af9/pycparser_1636541352034/work\n",
      "Pygments @ file:///home/conda/feedstock_root/build_artifacts/pygments_1650904496387/work\n",
      "pynput==1.7.6\n",
      "pyOpenSSL @ file:///opt/conda/conda-bld/pyopenssl_1643788558760/work\n",
      "pyparsing @ file:///home/conda/feedstock_root/build_artifacts/pyparsing_1652235407899/work\n",
      "PySocks @ file:///C:/ci/pysocks_1605307512533/work\n",
      "python-dateutil @ file:///home/conda/feedstock_root/build_artifacts/python-dateutil_1626286286081/work\n",
      "pywin32==302\n",
      "pyzmq @ file:///D:/bld/pyzmq_1656183664050/work\n",
      "requests @ file:///opt/conda/conda-bld/requests_1641824580448/work\n",
      "ruamel-yaml-conda @ file:///C:/ci/ruamel_yaml_1616016898638/work\n",
      "six @ file:///tmp/build/80754af9/six_1644875935023/work\n",
      "stack-data @ file:///home/conda/feedstock_root/build_artifacts/stack_data_1655315839047/work\n",
      "tornado @ file:///D:/bld/tornado_1656937934674/work\n",
      "tqdm @ file:///opt/conda/conda-bld/tqdm_1647339053476/work\n",
      "traitlets @ file:///home/conda/feedstock_root/build_artifacts/traitlets_1655411388954/work\n",
      "urllib3 @ file:///opt/conda/conda-bld/urllib3_1643638302206/work\n",
      "wcwidth @ file:///home/conda/feedstock_root/build_artifacts/wcwidth_1600965781394/work\n",
      "win-inet-pton @ file:///C:/ci/win_inet_pton_1605306162074/work\n",
      "wincertstore==0.2\n",
      "Note: you may need to restart the kernel to use updated packages.\n"
     ]
    }
   ],
   "source": [
    "%pip freeze"
   ]
  },
  {
   "cell_type": "code",
   "execution_count": 9,
   "metadata": {},
   "outputs": [
    {
     "name": "stdout",
     "output_type": "stream",
     "text": [
      "asttokens @ file:///home/conda/feedstock_root/build_artifacts/asttokens_1618968359944/work\n",
      "backcall @ file:///home/conda/feedstock_root/build_artifacts/backcall_1592338393461/work\n",
      "backports.functools-lru-cache @ file:///home/conda/feedstock_root/build_artifacts/backports.functools_lru_cache_1618230623929/work\n",
      "brotlipy==0.7.0\n",
      "certifi==2022.6.15\n",
      "cffi @ file:///C:/ci_310/cffi_1642682485096/work\n",
      "charset-normalizer @ file:///tmp/build/80754af9/charset-normalizer_1630003229654/work\n",
      "colorama @ file:///tmp/build/80754af9/colorama_1607707115595/work\n",
      "conda==4.13.0\n",
      "conda-content-trust @ file:///tmp/build/80754af9/conda-content-trust_1617045594566/work\n",
      "conda-package-handling @ file:///C:/ci/conda-package-handling_1649106011304/work\n",
      "cryptography @ file:///C:/ci/cryptography_1639414720302/work\n",
      "debugpy @ file:///D:/bld/debugpy_1649586515543/work\n",
      "decorator @ file:///home/conda/feedstock_root/build_artifacts/decorator_1641555617451/work\n",
      "entrypoints @ file:///home/conda/feedstock_root/build_artifacts/entrypoints_1643888246732/work\n",
      "executing @ file:///home/conda/feedstock_root/build_artifacts/executing_1658852325129/work\n",
      "idna @ file:///tmp/build/80754af9/idna_1637925883363/work\n",
      "ipykernel @ file:///D:/bld/ipykernel_1657295151080/work\n",
      "ipython @ file:///D:/bld/ipython_1653755080319/work\n",
      "jedi @ file:///D:/bld/jedi_1649067332918/work\n",
      "jupyter-client @ file:///home/conda/feedstock_root/build_artifacts/jupyter_client_1654730843242/work\n",
      "jupyter_core @ file:///D:/bld/jupyter_core_1658332470282/work\n",
      "matplotlib-inline @ file:///home/conda/feedstock_root/build_artifacts/matplotlib-inline_1631080358261/work\n",
      "menuinst @ file:///C:/ci/menuinst_1631733438520/work\n",
      "nest-asyncio @ file:///home/conda/feedstock_root/build_artifacts/nest-asyncio_1648959695634/work\n",
      "packaging @ file:///home/conda/feedstock_root/build_artifacts/packaging_1637239678211/work\n",
      "parso @ file:///home/conda/feedstock_root/build_artifacts/parso_1638334955874/work\n",
      "pickleshare @ file:///home/conda/feedstock_root/build_artifacts/pickleshare_1602536217715/work\n",
      "prompt-toolkit @ file:///home/conda/feedstock_root/build_artifacts/prompt-toolkit_1656332401605/work\n",
      "psutil @ file:///D:/bld/psutil_1653089392436/work\n",
      "pure-eval @ file:///home/conda/feedstock_root/build_artifacts/pure_eval_1642875951954/work\n",
      "pycosat==0.6.3\n",
      "pycparser @ file:///tmp/build/80754af9/pycparser_1636541352034/work\n",
      "Pygments @ file:///home/conda/feedstock_root/build_artifacts/pygments_1650904496387/work\n",
      "pynput==1.7.6\n",
      "pyOpenSSL @ file:///opt/conda/conda-bld/pyopenssl_1643788558760/work\n",
      "pyparsing @ file:///home/conda/feedstock_root/build_artifacts/pyparsing_1652235407899/work\n",
      "PySocks @ file:///C:/ci/pysocks_1605307512533/work\n",
      "python-dateutil @ file:///home/conda/feedstock_root/build_artifacts/python-dateutil_1626286286081/work\n",
      "pywin32==302\n",
      "pyzmq @ file:///D:/bld/pyzmq_1656183664050/work\n",
      "requests @ file:///opt/conda/conda-bld/requests_1641824580448/work\n",
      "ruamel-yaml-conda @ file:///C:/ci/ruamel_yaml_1616016898638/work\n",
      "six @ file:///tmp/build/80754af9/six_1644875935023/work\n",
      "stack-data @ file:///home/conda/feedstock_root/build_artifacts/stack_data_1655315839047/work\n",
      "tornado @ file:///D:/bld/tornado_1656937934674/work\n",
      "tqdm @ file:///opt/conda/conda-bld/tqdm_1647339053476/work\n",
      "traitlets @ file:///home/conda/feedstock_root/build_artifacts/traitlets_1655411388954/work\n",
      "urllib3 @ file:///opt/conda/conda-bld/urllib3_1643638302206/work\n",
      "wcwidth @ file:///home/conda/feedstock_root/build_artifacts/wcwidth_1600965781394/work\n",
      "win-inet-pton @ file:///C:/ci/win_inet_pton_1605306162074/work\n",
      "wincertstore==0.2\n"
     ]
    }
   ],
   "source": [
    "! pip freeze"
   ]
  },
  {
   "cell_type": "code",
   "execution_count": 10,
   "metadata": {},
   "outputs": [
    {
     "name": "stdout",
     "output_type": "stream",
     "text": [
      "hello!\n",
      "hiiii! \n",
      "I'm in terminal.\n"
     ]
    }
   ],
   "source": [
    "%run script.py"
   ]
  },
  {
   "cell_type": "code",
   "execution_count": 13,
   "metadata": {},
   "outputs": [
    {
     "name": "stdout",
     "output_type": "stream",
     "text": [
      "Overwriting script.py\n"
     ]
    }
   ],
   "source": [
    "%%writefile script.py\n",
    "def main():\n",
    "    print(\"new function\")\n",
    "    print(\"new line\")\n",
    "    return\n",
    "\n",
    "if __name__ == \"__main__\":\n",
    "    main()\n",
    "    print(\"I'm in terminal.\")"
   ]
  },
  {
   "cell_type": "code",
   "execution_count": 16,
   "metadata": {},
   "outputs": [
    {
     "name": "stdout",
     "output_type": "stream",
     "text": [
      "87.2 ms ± 3.88 ms per loop (mean ± std. dev. of 7 runs, 10 loops each)\n"
     ]
    }
   ],
   "source": [
    "%timeit big_list = [i for i in range(1000000)]"
   ]
  },
  {
   "cell_type": "code",
   "execution_count": 17,
   "metadata": {},
   "outputs": [
    {
     "name": "stdout",
     "output_type": "stream",
     "text": [
      "91.6 ms ± 4.21 ms per loop (mean ± std. dev. of 7 runs, 10 loops each)\n"
     ]
    }
   ],
   "source": [
    "%timeit {i for i in range(1000000)}\n"
   ]
  },
  {
   "cell_type": "code",
   "execution_count": 18,
   "metadata": {},
   "outputs": [
    {
     "name": "stdout",
     "output_type": "stream",
     "text": [
      "536 ns ± 42.6 ns per loop (mean ± std. dev. of 7 runs, 1,000,000 loops each)\n"
     ]
    }
   ],
   "source": [
    "%timeit (i for i in range(1000000))\n"
   ]
  },
  {
   "cell_type": "code",
   "execution_count": 20,
   "metadata": {},
   "outputs": [
    {
     "data": {
      "text/plain": [
       "'__main__'"
      ]
     },
     "execution_count": 20,
     "metadata": {},
     "output_type": "execute_result"
    }
   ],
   "source": [
    "__name__"
   ]
  },
  {
   "cell_type": "code",
   "execution_count": null,
   "metadata": {},
   "outputs": [],
   "source": [
    "def intersect()"
   ]
  },
  {
   "cell_type": "code",
   "execution_count": 21,
   "metadata": {},
   "outputs": [],
   "source": [
    "import csv"
   ]
  },
  {
   "cell_type": "code",
   "execution_count": 243,
   "metadata": {},
   "outputs": [],
   "source": [
    "file_handler = open(r\"directory\\second_D\\Marketing_Raw_Data.csv\")\n",
    "csv_extract = csv.reader(file_handler)\n",
    "\n",
    "file_handler.close()\n",
    "    "
   ]
  },
  {
   "cell_type": "code",
   "execution_count": 244,
   "metadata": {},
   "outputs": [
    {
     "ename": "ValueError",
     "evalue": "I/O operation on closed file.",
     "output_type": "error",
     "traceback": [
      "\u001b[1;31m---------------------------------------------------------------------------\u001b[0m",
      "\u001b[1;31mValueError\u001b[0m                                Traceback (most recent call last)",
      "\u001b[1;32mc:\\Users\\2000076134\\Dev\\Hexaware_Python\\Python_introduction_2_extension.ipynb Cell 18\u001b[0m in \u001b[0;36m<cell line: 1>\u001b[1;34m()\u001b[0m\n\u001b[1;32m----> <a href='vscode-notebook-cell:/c%3A/Users/2000076134/Dev/Hexaware_Python/Python_introduction_2_extension.ipynb#ch0000026?line=0'>1</a>\u001b[0m \u001b[39mnext\u001b[39;49m(csv_extract)\n",
      "\u001b[1;31mValueError\u001b[0m: I/O operation on closed file."
     ]
    }
   ],
   "source": [
    "next(csv_extract) "
   ]
  },
  {
   "cell_type": "code",
   "execution_count": 242,
   "metadata": {},
   "outputs": [],
   "source": [
    "with open(\"new_file.txt\", \"a\") as new_file:\n",
    "    print(\"Hello New File\", file=new_file)\n"
   ]
  },
  {
   "cell_type": "code",
   "execution_count": null,
   "metadata": {},
   "outputs": [],
   "source": []
  },
  {
   "cell_type": "code",
   "execution_count": null,
   "metadata": {},
   "outputs": [],
   "source": []
  }
 ],
 "metadata": {
  "kernelspec": {
   "display_name": "Python 3.9.12 ('base')",
   "language": "python",
   "name": "python3"
  },
  "language_info": {
   "codemirror_mode": {
    "name": "ipython",
    "version": 3
   },
   "file_extension": ".py",
   "mimetype": "text/x-python",
   "name": "python",
   "nbconvert_exporter": "python",
   "pygments_lexer": "ipython3",
   "version": "3.9.12"
  },
  "orig_nbformat": 4,
  "vscode": {
   "interpreter": {
    "hash": "3724d0f5762a99e6839fb4dbd4bdb548a98954709a09840cb011f6ea2b5eaba8"
   }
  }
 },
 "nbformat": 4,
 "nbformat_minor": 2
}
