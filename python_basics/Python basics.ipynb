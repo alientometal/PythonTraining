{
 "cells": [
  {
   "cell_type": "markdown",
   "id": "ebefe150",
   "metadata": {},
   "source": [
    "# Python Basics"
   ]
  },
  {
   "cell_type": "markdown",
   "id": "fb096060",
   "metadata": {},
   "source": [
    "## Sintaxis"
   ]
  },
  {
   "cell_type": "code",
   "execution_count": 2,
   "id": "b68b428c",
   "metadata": {},
   "outputs": [
    {
     "name": "stdout",
     "output_type": "stream",
     "text": [
      "3 es mayor que 1\n"
     ]
    }
   ],
   "source": [
    "##Indentartion is important on python\n",
    "\n",
    "##Wrong\n",
    "if 3 > 1:\n",
    "print(\"3 es mayor que 1\")\n",
    "\n",
    "##Correct\n",
    "#if 3 > 1:\n",
    " #   print(\"3 es mayor que 1\")\n",
    "    \n",
    "##Use tab or 4 spaces and keep it constant throughout the code\n",
    "\n",
    "##Wrong\n",
    "#if 3 > 1:\n",
    " #print(\"3 es mayor que 1\")\n",
    "  #      print(\"3 es mayor que 1\")\n"
   ]
  },
  {
   "cell_type": "code",
   "execution_count": null,
   "id": "542f7f08",
   "metadata": {},
   "outputs": [],
   "source": [
    "##Besides indentation functions require semi column\n",
    "\n",
    "if 3 > 1:\n",
    "    ##Code\n",
    "    \n",
    "for x in array:\n",
    "    ##Code\n",
    "\n",
    "while 4 < 10:\n",
    "    ##Code\n",
    "    \n",
    "def func():\n",
    "    #Code"
   ]
  },
  {
   "cell_type": "code",
   "execution_count": 3,
   "id": "3ab539f0",
   "metadata": {},
   "outputs": [
    {
     "name": "stdout",
     "output_type": "stream",
     "text": [
      "4 5\n"
     ]
    }
   ],
   "source": [
    "##Python is Case-Sensitive\n",
    "x = 4\n",
    "X = 5\n",
    "\n",
    "print(x,X)"
   ]
  },
  {
   "cell_type": "code",
   "execution_count": null,
   "id": "a608c55a",
   "metadata": {},
   "outputs": [],
   "source": [
    "##Unused Characters\n",
    "$\n",
    "@\n",
    "\n",
    "##Reserved words\n",
    "and\n",
    "if\n",
    "def\n",
    "elif\n",
    "else\n",
    "global\n",
    "for\n",
    "import\n",
    "pass\n",
    "\n",
    "etc...."
   ]
  },
  {
   "cell_type": "code",
   "execution_count": 7,
   "id": "52e46eab",
   "metadata": {},
   "outputs": [
    {
     "name": "stdout",
     "output_type": "stream",
     "text": [
      "4\n",
      "4\n",
      "4\n",
      "3 es mayor que 1\n",
      "3 es mayor que 1\n"
     ]
    }
   ],
   "source": [
    "## Spacing is ignored in python\n",
    "print(3+1)\n",
    "print(3 + 1)\n",
    "print    (3+1)  Not good\n",
    "\n",
    "if 3 > 1:\n",
    "    print(\"3 es mayor que 1\")\n",
    "    \n",
    "    print(\"3 es mayor que 1\")"
   ]
  },
  {
   "cell_type": "code",
   "execution_count": 11,
   "id": "35787107",
   "metadata": {},
   "outputs": [
    {
     "name": "stdout",
     "output_type": "stream",
     "text": [
      "Hola a todos\n",
      "Hola a todos\n"
     ]
    }
   ],
   "source": [
    "##Quotation\n",
    "print(\"Hola a todos\")\n",
    "print('Hola a todos')"
   ]
  },
  {
   "cell_type": "code",
   "execution_count": 14,
   "id": "b526e045",
   "metadata": {},
   "outputs": [
    {
     "name": "stdout",
     "output_type": "stream",
     "text": [
      "5 4\n"
     ]
    }
   ],
   "source": [
    "##Ending a line is not necessary\n",
    "\n",
    "##Not needed\n",
    "x = 5;\n",
    "y = 4;\n",
    "\n",
    "##Correct\n",
    "\n",
    "#x = 5\n",
    "#y = 4\n",
    "\n",
    "print(x,y)"
   ]
  },
  {
   "cell_type": "code",
   "execution_count": 17,
   "id": "145e4088",
   "metadata": {},
   "outputs": [
    {
     "ename": "SyntaxError",
     "evalue": "invalid syntax (2011260101.py, line 5)",
     "output_type": "error",
     "traceback": [
      "\u001b[1;36m  Input \u001b[1;32mIn [17]\u001b[1;36m\u001b[0m\n\u001b[1;33m    x = 1 + 2 + 3 + 4 +\u001b[0m\n\u001b[1;37m                       ^\u001b[0m\n\u001b[1;31mSyntaxError\u001b[0m\u001b[1;31m:\u001b[0m invalid syntax\n"
     ]
    }
   ],
   "source": [
    "## Break code into lines midway through\n",
    "\n",
    "##Worng\n",
    "\n",
    "x = 1 + 2 + 3 + 4 +\n",
    "    5 + 6 + 7 + 8\n",
    "\n",
    "\n",
    "##Correct\n",
    "#x = 1 + 2 + 3 + 4 +\\\n",
    " #   5 + 6 + 7 + 8\n",
    "    \n",
    "##Another right way\n",
    "\n",
    "#x = (1 + 2 + 3 + 4 +\n",
    " #    5 + 6 + 7 + 8)\n",
    "\n",
    "x"
   ]
  },
  {
   "cell_type": "code",
   "execution_count": 20,
   "id": "14e69a18",
   "metadata": {},
   "outputs": [
    {
     "ename": "SyntaxError",
     "evalue": "invalid syntax (1787826712.py, line 13)",
     "output_type": "error",
     "traceback": [
      "\u001b[1;36m  Input \u001b[1;32mIn [20]\u001b[1;36m\u001b[0m\n\u001b[1;33m    var iable = 10\u001b[0m\n\u001b[1;37m        ^\u001b[0m\n\u001b[1;31mSyntaxError\u001b[0m\u001b[1;31m:\u001b[0m invalid syntax\n"
     ]
    }
   ],
   "source": [
    "##Naming syntax\n",
    "\n",
    "# Valid\n",
    "_variable = 10\n",
    "vari_able = 20\n",
    "variable10 = 30\n",
    "variable = 60\n",
    "variaBle = 10\n",
    "\n",
    "# Not valid\n",
    "2variable = 10\n",
    "var-iable = 10\n",
    "var iable = 10\n"
   ]
  },
  {
   "cell_type": "markdown",
   "id": "71824f22",
   "metadata": {},
   "source": [
    "## Data types"
   ]
  },
  {
   "cell_type": "markdown",
   "id": "dda084c8",
   "metadata": {},
   "source": [
    "- **Text Type:**\tstr\n",
    "- **Numeric Types:**\tint, float, complex\n",
    "- **Sequence Types:**\tlist, tuple, range\n",
    "- **Mapping Type:**\tdict\n",
    "- **Set Types:**\tset, frozenset\n",
    "- **Boolean Type:**\tbool\n",
    "- **Binary Types:**\tbytes, bytearray, memoryview\n",
    "- **None Type:**\tNoneType"
   ]
  },
  {
   "cell_type": "code",
   "execution_count": 34,
   "id": "dac6c892",
   "metadata": {},
   "outputs": [
    {
     "name": "stdout",
     "output_type": "stream",
     "text": [
      "5 <class 'int'>\n",
      "5.0 <class 'float'>\n",
      "5.0 <class 'str'>\n",
      "{'Uno': 1} <class 'dict'>\n",
      "{False, 5, 134.28, 'Hi'} <class 'set'>\n",
      "True <class 'bool'>\n",
      "None <class 'NoneType'>\n"
     ]
    }
   ],
   "source": [
    "x = 5\n",
    "print(x, type(x))\n",
    "\n",
    "x = 5.0\n",
    "print(x, type(x))\n",
    "\n",
    "x = str(x)\n",
    "print(x, type(x))\n",
    "\n",
    "my_dict = {\"Uno\": 1}\n",
    "print(my_dict, type(my_dict))\n",
    "\n",
    "my_set = {\"Hi\", 5, 134.28, False}\n",
    "print(my_set, type(my_set))\n",
    "\n",
    "my_bool = True\n",
    "print(my_bool, type(my_bool))\n",
    "\n",
    "y = None\n",
    "print(y, type(y))"
   ]
  },
  {
   "cell_type": "markdown",
   "id": "df345c1f",
   "metadata": {},
   "source": [
    "### Excercise 1:"
   ]
  },
  {
   "cell_type": "code",
   "execution_count": null,
   "id": "d2874d96",
   "metadata": {},
   "outputs": [],
   "source": [
    "##Convert to different data types\n",
    "\n",
    "## Ex 1.1\n",
    "x = 8\n",
    "##Convert to float\n",
    "x = \n",
    "\n",
    "##Ex 1.2:\n",
    "y = (1,2,3,4)\n",
    "##Convert to list\n",
    "y = \n",
    "\n",
    "##Ex 1.3:\n",
    "## Print \"Mi numero favorito es 5\"\n",
    "num = 5\n",
    "nume = \n",
    "print(\"Mi numero favorito es\")\n",
    "\n",
    "##More on data types later..."
   ]
  },
  {
   "cell_type": "markdown",
   "id": "1df2d582",
   "metadata": {},
   "source": [
    "## Math"
   ]
  },
  {
   "cell_type": "code",
   "execution_count": 44,
   "id": "618df9de",
   "metadata": {},
   "outputs": [
    {
     "name": "stdout",
     "output_type": "stream",
     "text": [
      "2\n",
      "50\n",
      "-25.5\n",
      "1.6666666666666667\n",
      "1\n",
      "25\n",
      "0 1\n",
      "\n",
      "\n",
      "5.5\n"
     ]
    }
   ],
   "source": [
    "##Basic math\n",
    "print(1 + 1)\n",
    "print(5*10)\n",
    "print(3-28.5)\n",
    "print(5/3)\n",
    "print(5//3)\n",
    "print(5**2)\n",
    "print(4 % 2, 4 % 3)\n",
    "##Same with variables\n",
    "print(\"\\n\")\n",
    "a = 3.5\n",
    "b = 2\n",
    "print(a + b)"
   ]
  },
  {
   "cell_type": "code",
   "execution_count": 59,
   "id": "0b5c34e6",
   "metadata": {},
   "outputs": [
    {
     "name": "stdout",
     "output_type": "stream",
     "text": [
      "5\n",
      "25 \n",
      "\n",
      "7.25 \n",
      "\n",
      "2.0\n",
      "2.0 \n",
      "\n",
      "5\n",
      "4 \n",
      "\n",
      "4\n",
      "5\n",
      "4 \n",
      "\n",
      "3.141592653589793\n"
     ]
    }
   ],
   "source": [
    "#Built-in functions\n",
    "\n",
    "##Min and max\n",
    "x = min(5, 10, 25)\n",
    "y = max(5, 10, 25)\n",
    "print(x)\n",
    "print(y, \"\\n\")\n",
    "\n",
    "##Absolute value\n",
    "x = abs(-7.25)\n",
    "print(x, \"\\n\")\n",
    "\n",
    "import math\n",
    "\n",
    "#Root square\n",
    "y = 4\n",
    "##Option 1 (No math)\n",
    "print(y**1/2)\n",
    "#Option 2 (math)\n",
    "print(math.sqrt(y), \"\\n\")\n",
    "\n",
    "##Ceil, Floor\n",
    "x = 4.3\n",
    "print(math.ceil(x))\n",
    "print(math.floor(x), \"\\n\")\n",
    "\n",
    "##Round\n",
    "print(round(x))\n",
    "x = 4.6\n",
    "print(round(x))\n",
    "x = 4.5\n",
    "print(round(x), \"\\n\")\n",
    "\n",
    "##Pi\n",
    "print(math.pi)\n",
    "print(pi)"
   ]
  },
  {
   "cell_type": "markdown",
   "id": "2a2d43a1",
   "metadata": {},
   "source": [
    "More on math https://docs.python.org/3/library/math.html"
   ]
  },
  {
   "cell_type": "code",
   "execution_count": 69,
   "id": "047fb8d4",
   "metadata": {},
   "outputs": [
    {
     "name": "stdout",
     "output_type": "stream",
     "text": [
      "10\n",
      "4\n"
     ]
    }
   ],
   "source": [
    "##Math with lists, arrays, etc..\n",
    "\n",
    "#Sum\n",
    "x = [1,2,3,4]\n",
    "print(sum(x))\n",
    "\n",
    "#Length of list\n",
    "print(len(x))\n",
    "\n",
    "#but..."
   ]
  },
  {
   "cell_type": "code",
   "execution_count": 65,
   "id": "fff88ca6",
   "metadata": {},
   "outputs": [
    {
     "ename": "TypeError",
     "evalue": "unsupported operand type(s) for ** or pow(): 'list' and 'int'",
     "output_type": "error",
     "traceback": [
      "\u001b[1;31m---------------------------------------------------------------------------\u001b[0m",
      "\u001b[1;31mTypeError\u001b[0m                                 Traceback (most recent call last)",
      "Input \u001b[1;32mIn [65]\u001b[0m, in \u001b[0;36m<cell line: 1>\u001b[1;34m()\u001b[0m\n\u001b[1;32m----> 1\u001b[0m \u001b[43mx\u001b[49m\u001b[38;5;241;43m*\u001b[39;49m\u001b[38;5;241;43m*\u001b[39;49m\u001b[38;5;241;43m2\u001b[39;49m\n",
      "\u001b[1;31mTypeError\u001b[0m: unsupported operand type(s) for ** or pow(): 'list' and 'int'"
     ]
    }
   ],
   "source": [
    "x**2"
   ]
  },
  {
   "cell_type": "markdown",
   "id": "68ca1138",
   "metadata": {},
   "source": [
    "### Excercise 2"
   ]
  },
  {
   "cell_type": "code",
   "execution_count": 71,
   "id": "ab2537f8",
   "metadata": {},
   "outputs": [],
   "source": [
    "##Find the square of each element in x and create a new list with them\n",
    "\n",
    "\n",
    "\n",
    "##Sol 1 (list comprehension):\n",
    "\n",
    "\n",
    "\n",
    "\n",
    "\n",
    "##Sol 2 (new list)\n",
    "\n",
    "\n",
    "\n",
    "\n"
   ]
  },
  {
   "cell_type": "code",
   "execution_count": null,
   "id": "3a93858e",
   "metadata": {},
   "outputs": [],
   "source": [
    "#Solutions\n",
    "\n",
    "###x = [x**2 for x in x]\n",
    "#y = []\n",
    "#for i in x:\n",
    " #   y.append(i**2)\n",
    "#y"
   ]
  },
  {
   "cell_type": "markdown",
   "id": "1f1a2b8c",
   "metadata": {},
   "source": [
    "## This is why we need numpy!"
   ]
  },
  {
   "cell_type": "code",
   "execution_count": null,
   "id": "57897812",
   "metadata": {},
   "outputs": [],
   "source": []
  }
 ],
 "metadata": {
  "kernelspec": {
   "display_name": "Python 3 (ipykernel)",
   "language": "python",
   "name": "python3"
  },
  "language_info": {
   "codemirror_mode": {
    "name": "ipython",
    "version": 3
   },
   "file_extension": ".py",
   "mimetype": "text/x-python",
   "name": "python",
   "nbconvert_exporter": "python",
   "pygments_lexer": "ipython3",
   "version": "3.9.12"
  }
 },
 "nbformat": 4,
 "nbformat_minor": 5
}
