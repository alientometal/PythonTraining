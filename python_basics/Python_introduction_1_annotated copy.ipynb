{
 "cells": [
  {
   "cell_type": "markdown",
   "metadata": {},
   "source": [
    "# Strings\n",
    "The object (data type) string is very important for data analysis. It has a number of important and very useful methods for string processing and parsing, and there is a package (called re) for string support for <a href= http://www.rexegg.com/regex-quickstart.html>regular expressions</a>"
   ]
  },
  {
   "cell_type": "code",
   "execution_count": null,
   "metadata": {},
   "outputs": [],
   "source": [
    "a=\"holaolaola\" # we define test string\n",
    "# Ignore whats on the left side, instructions are on the right side\n",
    "print('a    =   '+a)\n",
    "print(\"Metodo\\t\\tResultado\")\n",
    "print('a.count(\\'ol\\') =',a.count('ol'))\n",
    "print('a.endswith(\\'ola\\' )=', a.endswith('ola'))\n",
    "print('a.find(\\'h\\') =', a.find('h'))\n",
    "print('\\\\t.join([\\'j\\',\\'k\\',\\'m\\']) =', '\\t'.join(['j','k','m']))# list items separated by the variable, very useful with tabulators\n",
    "print('a.partition(\\'aola\\') =', a.partition('aola'))\n",
    "print('a.replace(aola,\\'\\') =', a.replace('aola',''))\n",
    "print('a.split(\\'o\\') =', a.split('o'))"
   ]
  },
  {
   "cell_type": "markdown",
   "metadata": {},
   "source": [
    "# Lists\n",
    "\n",
    "Lists in python are also objects, so they have a series of attributes and methods to facilitate their use, the most important or used are: (You are invited to try to understand how they work and if there are doubts ask)"
   ]
  },
  {
   "cell_type": "markdown",
   "metadata": {},
   "source": [
    "# Tuples\n",
    "Tuples are relationships between two or more objects (like lists) however, once created, tuples cannot be modified, i.e. adding, deleting, etc. is not allowed. They can be useful when reading data and preserving their characteristics. Examples:"
   ]
  },
  {
   "cell_type": "markdown",
   "metadata": {},
   "source": [
    "# Dictionaries\n",
    "Dictionaries are the hashes in python. They are also objects and allow to store a key-value relationship, as you know the keys in a dictionary or hash must be unique, while the values can be repeated. The flexibility of dictionaries in python allows to have dictionaries that *point* to other data structures such as tuples, lists and even other dictionaries.\n",
    "\n",
    "Note, although it may sometimes appear that the .keys() and .values() methods of a dictionary retain some order and even correspond to each other, simply calling them does not ensure that element 'n' of one is equivalent to element 'n' of the other. "
   ]
  },
  {
   "cell_type": "code",
   "execution_count": null,
   "metadata": {},
   "outputs": [],
   "source": [
    "list_example = [1,3,4,5,6,7,8,9,10,11, 3,4,5]\n",
    "set(list_example)"
   ]
  },
  {
   "cell_type": "markdown",
   "metadata": {},
   "source": [
    "## Control Flux (conditionals)\n",
    "\n",
    "So far, we know how to define variables, so we can create slightly more advanced code blocks. The first thing we want to do is create a new variable called `under_age` and we will need to define it using a contitional statement. To do this, it will be useful to remember the comparison operators (`<, >, <=, >=, ==, !=`).\n",
    "\n",
    "The idea is as follows, if the person is a minor, the value of this variable will be ``True`` and will be ``False`` in the other case.\n",
    "\n",
    "To declare a conditional statement, the following syntax is used:\n",
    "\n",
    "````python\n",
    "if condition:\n",
    "    # Block of code for a satisfied condition. \n",
    "else:\n",
    "    # Block of code for a non-satisfied condition. \n",
    "```\n",
    "\n",
    "#### Example:"
   ]
  },
  {
   "cell_type": "code",
   "execution_count": null,
   "metadata": {},
   "outputs": [],
   "source": [
    "dog_color = \"grey\"\n",
    "if dog_color == \"black\":\n",
    "    print(\"Indeed, this dog is black.\")\n",
    "else:\n",
    "    print(\"Nope, it is not a black dog.\")"
   ]
  },
  {
   "cell_type": "markdown",
   "metadata": {},
   "source": [
    "In the case of having more than one condition, we can use `elif` statements:\n",
    "\n",
    "````python\n",
    "if condition_one:\n",
    "    # Block of code for a satisfied condition one\n",
    "elif condition_two:\n",
    "    # Block of code for a satisfied condition two\n",
    "...\n",
    "elif condition_nth:\n",
    "    # Block of code for a satisfied condition nth.\n",
    "else:\n",
    "    # Block of code for non-satisfied conditions.\n",
    "```\n",
    "\n",
    "#### Exercise:\n",
    "\n",
    "Now create a condition to define a new variable called `under_age` that will compare whether the age is greater than or equal to 18 to set it to ``False`` or ``True`` in the other case."
   ]
  },
  {
   "cell_type": "code",
   "execution_count": null,
   "metadata": {},
   "outputs": [],
   "source": [
    "age = 18\n",
    "print(True if age < 18 else False)"
   ]
  },
  {
   "cell_type": "markdown",
   "metadata": {},
   "source": [
    "# Cycles in python\n",
    "In Python there are for and while, however the `for` that exists is a special for that only acts on iterable objects, that is to say that it does not add to a variable but it goes through a vector element by element."
   ]
  },
  {
   "cell_type": "code",
   "execution_count": null,
   "metadata": {},
   "outputs": [],
   "source": [
    "# We create an iterable with the function range\n",
    "#start, stop, steps\n",
    "count=tuple(range(1,20,2))\n",
    "count"
   ]
  },
  {
   "cell_type": "code",
   "execution_count": null,
   "metadata": {},
   "outputs": [],
   "source": [
    "for i in count:\n",
    "    print(i - 1)\n",
    "print('done')"
   ]
  },
  {
   "cell_type": "markdown",
   "metadata": {},
   "source": [
    "That is the basic syntax of a for, note that the identation is what tells you which lines of code are part of the for.  \n",
    "\n",
    "On the other hand the syntax of the while is similar to that of the for, however the condition must be inside parenthesis, followed by a colon and the block identified in a correct way. In this example we use the final value of the variable **i** that was going through the count vector."
   ]
  },
  {
   "cell_type": "code",
   "execution_count": null,
   "metadata": {},
   "outputs": [],
   "source": [
    "x = 0\n",
    "while(x < i):\n",
    "    print(x)\n",
    "    x = x + 2\n",
    "print('done')"
   ]
  },
  {
   "cell_type": "markdown",
   "metadata": {},
   "source": [
    "The if has a syntax similar to that of the while, however, it is not necessary to write the condition in brackets, the operators **or** and **and** are written as they are:"
   ]
  },
  {
   "cell_type": "code",
   "execution_count": null,
   "metadata": {},
   "outputs": [],
   "source": [
    "a,b = 2,3 # You can modify these numbers to see how the result changes\n",
    "if a>b or b<5:\n",
    "    print(\"Yes\")\n",
    "elif a==b:\n",
    "    print(\"Equal\")\n",
    "else:\n",
    "    print(\"No\")"
   ]
  },
  {
   "cell_type": "markdown",
   "metadata": {},
   "source": [
    "# Receiving Data\n",
    "\n",
    "Normally you will receive data by opening files, rarely using the arguments from the terminal (argc and argv) and very rarely directly from the keyboard. However we will detail how to get data from the keyboard and then opening files, we will not review getting parameters from the terminal."
   ]
  },
  {
   "cell_type": "markdown",
   "metadata": {},
   "source": [
    "## Keyboard o stidn"
   ]
  },
  {
   "cell_type": "code",
   "execution_count": null,
   "metadata": {},
   "outputs": [],
   "source": [
    "a = input(\"Input your number: \")\n",
    "print(a)"
   ]
  },
  {
   "cell_type": "markdown",
   "metadata": {},
   "source": [
    "## Opening Files\n",
    "Python allows to open files in an easy and simple way, there is more than one way to do it and depending on the order and care you take it doesn't matter which one you use, here is a way to do it in which you must close the file explicitly after using it\n"
   ]
  },
  {
   "cell_type": "code",
   "execution_count": null,
   "metadata": {},
   "outputs": [],
   "source": [
    "! dir "
   ]
  },
  {
   "cell_type": "code",
   "execution_count": null,
   "metadata": {},
   "outputs": [],
   "source": [
    "file_handler = open(\"Marketing_Raw_Data.csv\", \"r\") # Insert the path to the file you want to open\n",
    "i = 0\n",
    "for line in file_handler:\n",
    "    # Conditions were set so that the entire file would not be printed.\n",
    "    if i > 9:\n",
    "        break\n",
    "    else:\n",
    "        print(datetime.strpline.strip().split(',')[0])\n",
    "        i = i + 1\n",
    "file_handler.close()"
   ]
  },
  {
   "cell_type": "markdown",
   "metadata": {},
   "source": [
    "Another way to open it is using the <font color='green'> **with** </font> object of python, this is a kind of guardian, which takes care that even if there is an error at some point in the code, the file handle is closed, thus allowing that there is always memory, so the least risky way to open a file is to use the <font color='green'> **with** </font> object:"
   ]
  },
  {
   "cell_type": "code",
   "execution_count": null,
   "metadata": {},
   "outputs": [],
   "source": [
    "import pandas as pd"
   ]
  },
  {
   "cell_type": "code",
   "execution_count": null,
   "metadata": {},
   "outputs": [],
   "source": [
    "with open(r\"C:\\Users\\2000076134\\Dev\\Hexaware_Python\\directory\\second_D\\Marketing_Raw_Data.csv\", \"rb\") as file_handler: # Insert the path to the file you want to open\n",
    "    i = 0\n",
    "    for line in file_handler:\n",
    "        # Conditions were set so that the entire file would not be printed.\n",
    "        if i > 9:\n",
    "            break\n",
    "        else:\n",
    "            print(line)\n",
    "            i = i + 1"
   ]
  },
  {
   "cell_type": "code",
   "execution_count": null,
   "metadata": {},
   "outputs": [],
   "source": [
    "for line in file_handler:\n",
    "    print(line)"
   ]
  },
  {
   "cell_type": "code",
   "execution_count": null,
   "metadata": {},
   "outputs": [],
   "source": [
    "r\"C:\\Users\\2000076134\\Dev\\Hexaware_Python\\directory\\second_D\\Marketing_Raw_Data.csv\""
   ]
  },
  {
   "cell_type": "code",
   "execution_count": null,
   "metadata": {},
   "outputs": [],
   "source": [
    "first = \"Ugly\"\n",
    "second = '\"nice\"'\n",
    "f\"Carlos string is {second} and {second}\""
   ]
  },
  {
   "cell_type": "code",
   "execution_count": null,
   "metadata": {},
   "outputs": [],
   "source": [
    "second = \"nice\"\n",
    "print(second)"
   ]
  },
  {
   "cell_type": "code",
   "execution_count": null,
   "metadata": {},
   "outputs": [],
   "source": [
    "second"
   ]
  },
  {
   "cell_type": "code",
   "execution_count": null,
   "metadata": {},
   "outputs": [],
   "source": [
    "nice = \"nice variable\""
   ]
  },
  {
   "cell_type": "code",
   "execution_count": null,
   "metadata": {},
   "outputs": [],
   "source": [
    "eval(second)\n"
   ]
  },
  {
   "cell_type": "markdown",
   "metadata": {},
   "source": [
    "As you can see the file was closed even though it was never made explicit that the file should be closed, if there had been an error in the middle of the code this would have protected it. The operation of the object <font color='green'> **with** </font> is based on the fact that the object that is receiving to initialize itself (remember that in python everything is objects) has two methods, **enter** that is in charge of executing the code and making a return and **exit** that is in charge of closing or freeing the memory independently of the result."
   ]
  },
  {
   "cell_type": "markdown",
   "metadata": {},
   "source": [
    "# Functions\n",
    "\n",
    "In python it is possible to define functions and procedures (which are ultimately also objects). Then these functions can be grouped and converted into a library (these are code blocks with functions and objects that are called to access those functions). Next we will show an example of how to create a function, it will take a number and return the succession of fibonacci in that number:"
   ]
  },
  {
   "cell_type": "code",
   "execution_count": null,
   "metadata": {},
   "outputs": [],
   "source": [
    "def fiborec(n): # how to define a function\n",
    "    '''Putting this is very important, because it is a string that acts as documentation of the function.\n",
    "    In it you can detail inputs, parameters and outputs.\n",
    "    This way people when typing the function and pressing shift+tab can read this and know how it works (try it).'''\n",
    "    if n==0:\n",
    "        return(1) # Functions always return something even if it is an empty element or a 'None'.\n",
    "    elif n==1:\n",
    "        return(1) # If it is a procedure, then something is not returned.\n",
    "    else:\n",
    "        return(fiborec(n-1)+fiborec(n-2))"
   ]
  },
  {
   "cell_type": "code",
   "execution_count": null,
   "metadata": {},
   "outputs": [],
   "source": [
    "for i in range(5):\n",
    "    print(fiborec(i))"
   ]
  },
  {
   "cell_type": "code",
   "execution_count": null,
   "metadata": {},
   "outputs": [],
   "source": [
    "def count(first, fourth, fifth, sixth, seventh, second='', third=''):\n",
    "    print(first, second, third, fourth, fifth, sixth, seventh)\n",
    "    return 5\n",
    "    \n",
    "variable = count(1,2,3,4,5,third=4,second=7)"
   ]
  },
  {
   "cell_type": "code",
   "execution_count": null,
   "metadata": {},
   "outputs": [],
   "source": [
    "repr(variable)"
   ]
  },
  {
   "cell_type": "code",
   "execution_count": null,
   "metadata": {},
   "outputs": [],
   "source": [
    "def <function_name>(<parameters>)\n"
   ]
  },
  {
   "cell_type": "code",
   "execution_count": null,
   "metadata": {},
   "outputs": [],
   "source": [
    "print('string', 'strin_1', sep='', end='\\t')\n",
    "print('string', 'strin_1', sep='')\n",
    "print()"
   ]
  },
  {
   "cell_type": "code",
   "execution_count": null,
   "metadata": {},
   "outputs": [],
   "source": [
    "def new_func():\n",
    "    my_input = input('Give me an input')\n",
    "    print(my_input)\n",
    "    return my_input\n",
    "\n",
    "def new_func_2(input:str)->str:\n",
    "    \"\"\"\"\"\"\n",
    "    print(input)\n",
    "    return input\n",
    "\n"
   ]
  },
  {
   "cell_type": "code",
   "execution_count": null,
   "metadata": {},
   "outputs": [],
   "source": [
    "new_func()"
   ]
  },
  {
   "cell_type": "code",
   "execution_count": null,
   "metadata": {},
   "outputs": [],
   "source": [
    "input_string = input(\"Give me an input string\")\n",
    "new_func_2(input_string)"
   ]
  },
  {
   "cell_type": "markdown",
   "metadata": {},
   "source": [
    "Parameters:\n",
    "- positional\n",
    "- by keyword"
   ]
  },
  {
   "cell_type": "markdown",
   "metadata": {},
   "source": [
    "Keep in mind that in python all variables are passed by reference, and if they are modified in a function they can be modified globally unless they are immutable objects. So you must be careful and generate copies of the elements if you don't want to modify them *in place*.  \n",
    "Once a function works well, and in case it can be used by many people you can build a library with it(s). Building a library is easy, because it is a text document with extension **.py** which is then converted by a command, to a python module with extension **'.pyc'**. For the library we build (or any of them) to be found by python, the file must be placed in the site-pkgs folder of the python installation. To locate your site-pkgs folder:"
   ]
  },
  {
   "cell_type": "code",
   "execution_count": null,
   "metadata": {},
   "outputs": [],
   "source": [
    "import example as ex"
   ]
  },
  {
   "cell_type": "code",
   "execution_count": null,
   "metadata": {},
   "outputs": [],
   "source": [
    "ex.new_func()\n"
   ]
  },
  {
   "cell_type": "code",
   "execution_count": null,
   "metadata": {},
   "outputs": [],
   "source": [
    "from site import getsitepackages\n",
    "getsitepackages()"
   ]
  },
  {
   "cell_type": "markdown",
   "metadata": {},
   "source": [
    "# About try except, it is essential to learn to use it in the right way\n",
    "\n",
    "Colloquially we call it <a href=https://docs.python.org/2/tutorial/errors.html>try-except</a> and it works like this: (In this example we detail how it works inside the input() function of python, this actually calls raw_input and calls the instruction eval() that what it does is to mathematically evaluate the variable obtained, if eval is used with a string it raises a NameError, which we can except."
   ]
  },
  {
   "cell_type": "code",
   "execution_count": null,
   "metadata": {},
   "outputs": [],
   "source": [
    "def whatType():\n",
    "    '''Example function of how to use the try except, it is important to always know how to use it safely.\n",
    "    It is easy to use it as a patch but this should be avoided, it can also be useful to optimize (see above).\n",
    "    It has no input and no output, it takes a value from the keyboard and tries to find a python data type for it.'''\n",
    "    a = input()\n",
    "    try:\n",
    "        a = eval(a)\n",
    "        print('Your input ', type(a))\n",
    "    except NameError:\n",
    "        print('Your input ',type(a))\n",
    "    return(None)"
   ]
  },
  {
   "cell_type": "code",
   "execution_count": null,
   "metadata": {},
   "outputs": [],
   "source": [
    "whatType() # press shift+tab for documentation"
   ]
  },
  {
   "cell_type": "code",
   "execution_count": null,
   "metadata": {},
   "outputs": [],
   "source": [
    "whatType()"
   ]
  },
  {
   "cell_type": "code",
   "execution_count": null,
   "metadata": {},
   "outputs": [],
   "source": [
    "import csv "
   ]
  },
  {
   "cell_type": "code",
   "execution_count": null,
   "metadata": {},
   "outputs": [],
   "source": []
  }
 ],
 "metadata": {
  "kernelspec": {
   "display_name": "Python 3.9.12 ('base')",
   "language": "python",
   "name": "python3"
  },
  "language_info": {
   "codemirror_mode": {
    "name": "ipython",
    "version": 3
   },
   "file_extension": ".py",
   "mimetype": "text/x-python",
   "name": "python",
   "nbconvert_exporter": "python",
   "pygments_lexer": "ipython3",
   "version": "3.9.12"
  },
  "orig_nbformat": 4,
  "vscode": {
   "interpreter": {
    "hash": "3724d0f5762a99e6839fb4dbd4bdb548a98954709a09840cb011f6ea2b5eaba8"
   }
  }
 },
 "nbformat": 4,
 "nbformat_minor": 2
}
