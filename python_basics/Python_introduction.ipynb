{
 "cells": [
  {
   "cell_type": "markdown",
   "metadata": {},
   "source": [
    "# About Python\n",
    "\n",
    "Python is a high-level programming language, which integrates several programming paradigms and allows you to work quickly, easily and integratively. The Python philosophy:"
   ]
  },
  {
   "cell_type": "code",
   "execution_count": null,
   "metadata": {},
   "outputs": [],
   "source": [
    "import this"
   ]
  },
  {
   "cell_type": "markdown",
   "metadata": {},
   "source": [
    "The purpose of python is to provide a simple, yet powerful language. It can be used for web programming, GUI development, scientific and numerical applications, software development and much more.  \n",
    "\n",
    "Python has its own important features to take into account:\n",
    "\n",
    "- It is an interpreted language\n",
    "- Of course it is a zero-based language (you count 0, 1, 2, 3, 4.... n-1)\n",
    "- Dynamically typed (assumes the data type).\n",
    "- Strongly typed (data is not automatically inter-converted, you must be explicit)\n",
    "- Nested code blocks are distinguished **by the code identation**.\n",
    "- Code can be easily converted into modules or libraries\n",
    "- Python supports object-oriented programming with classes and multiple inheritances.\n",
    "- The language supports raising and catching exceptions, resulting in cleaner error handling\n",
    "- Python contains advanced programming features such as generators and list comprehensions. \n",
    "- Python's automatic memory management frees you from having to manually allocate and free memory in your code. "
   ]
  },
  {
   "cell_type": "markdown",
   "metadata": {},
   "source": [
    "# Python Installation\n",
    "\n",
    "Python is easy to install, from personal experience we recommend to keep **ONE** python installation (unless you understand perfectly what you are doing). Currently Python 3.x is the most widely used, as support for Python 2.x has ended. "
   ]
  },
  {
   "cell_type": "markdown",
   "metadata": {},
   "source": [
    "# Jupyter Notebooks\n",
    "Jupyter Notebooks are a tool that allows coding, segmenting, documenting, and testing code dynamically. This tool is very versatile, because it allows to separate the code in cells and add documentation or report elements to make a perfect documentation. It also allows to add elements in markdown typing and html format, so it becomes a powerful tool to insert formatted text, images and graphics."
   ]
  },
  {
   "cell_type": "markdown",
   "metadata": {},
   "source": [
    "# Basic Python Synthaxis\n",
    "\n",
    "Variable identifiers follow very basic rules:\n",
    "\n",
    "1. They must start with an underscore (_) or some letter.\n",
    "2. They can contain letters, digits and underscores\n",
    "3. They can be of any length\n",
    "4. They cannot be **Python keywords**.\n",
    "\n",
    "Also keep in mind that in python **everything** is an object, even elements such as integers, floats and other *variables* so all identifiers are actually references to objects that contain the value among other attributes and methods.\n",
    "Example of assigning a value to a variable, and how it is an object by having its own methods."
   ]
  },
  {
   "cell_type": "code",
   "execution_count": null,
   "metadata": {},
   "outputs": [],
   "source": [
    "x = 1500\n",
    "print(x.bit_length())\n",
    "print(x.conjugate())\n",
    "print(x.numerator)\n",
    "print(x.denominator)"
   ]
  },
  {
   "cell_type": "markdown",
   "metadata": {},
   "source": [
    "As you can see, despite appearing to be just a variable with an assigned value, x is actually an object with a series of attributes (object properties such as numerator and denominator) and methods (functions associated to objects as in this case bit_length and conjugate). This provides a huge advantage when working with complex structures.  \n",
    "\n",
    "Python allows to assign simultaneously to several variables and even to invert them in a fast way, many functions especially of the statistical packages work with this type of assignment. What is really happening is that the function returns a vector with the values and the multiple assignment is in charge of assigning in an orderly way the elements of the vector to each one of the identifiers."
   ]
  },
  {
   "cell_type": "code",
   "execution_count": null,
   "metadata": {},
   "outputs": [],
   "source": [
    "x, y = 1, 2\n",
    "print(x,y)"
   ]
  },
  {
   "cell_type": "code",
   "execution_count": null,
   "metadata": {},
   "outputs": [],
   "source": [
    "x, y = y, x\n",
    "print(x, y)"
   ]
  },
  {
   "cell_type": "markdown",
   "metadata": {},
   "source": [
    "# Python Data Types\n",
    "\n",
    "Python has five data types (click on the link for more information about the data type):\n",
    "\n",
    "a) <a href=\"http://thepythonguru.com/python-numbers/\">Number</a> (int, float and complex)<br>\n",
    "    b) <a href=\"http://thepythonguru.com/python-strings/\">String</a><br>\n",
    "    c) <a href=\"http://thepythonguru.com/python-lists/\">List</a> (vector)<br>\n",
    "    d) <a href=\"http://thepythonguru.com/python-tuples/\">Tuple</a> (related elements)<br>\n",
    "    e) <a href=\"http://thepythonguru.com/python-dictionaries/\">Dictionary</a><br>\n",
    "    f) Boolean other than **False**: 0, lists, tuples, empty strings and dictionaries as well as \"None\" count as false.\n"
   ]
  },
  {
   "cell_type": "markdown",
   "metadata": {},
   "source": [
    "We will use Python's input and output functions to create our first hello world.\n",
    "\n",
    "You just need to execute the following cell with code by pressing the _play_ button or pressing `Shift + Enter` on your keyboard."
   ]
  },
  {
   "cell_type": "code",
   "execution_count": null,
   "metadata": {},
   "outputs": [],
   "source": [
    "# Hello world in Python:\n",
    "your_name = input(\"Please write your name: \")\n",
    "print(f\"Say hello to the world, {your_name}!\")"
   ]
  }
 ],
 "metadata": {
  "kernelspec": {
   "display_name": "Python 3.8.13 ('aladdin')",
   "language": "python",
   "name": "python3"
  },
  "language_info": {
   "codemirror_mode": {
    "name": "ipython",
    "version": 3
   },
   "file_extension": ".py",
   "mimetype": "text/x-python",
   "name": "python",
   "nbconvert_exporter": "python",
   "pygments_lexer": "ipython3",
   "version": "3.8.13"
  },
  "vscode": {
   "interpreter": {
    "hash": "0c5bd268ede94bc695ca7af20c99129ae477fa980453f1465a339382774bd602"
   }
  }
 },
 "nbformat": 4,
 "nbformat_minor": 2
}
