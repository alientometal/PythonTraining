{
 "cells": [
  {
   "attachments": {},
   "cell_type": "markdown",
   "metadata": {},
   "source": [
    "# List Comprehension"
   ]
  },
  {
   "attachments": {},
   "cell_type": "markdown",
   "metadata": {},
   "source": [
    "Python Comprehensions are expressions to create new **lists**, **dictionaries**, **sets** and **generators** based on the values of existing iterables. They are an elegant way to make your code much more concise and readable in a single line of code.\n",
    "\n",
    "A Python Comprehension consists of an expression followed by a `for` clause, and optionally one or more `if` clauses. The expression is evaluated for each item in the list specified in the `for` clause, and the result is a new list containing the results of each evaluation.\n",
    "\n",
    "Here's the basic syntax:\n",
    "\n",
    "```python\n",
    " newlist = [expression for item in iterable if condition] \n",
    "```\n",
    "The return value is a new list, leaving the old list unchanged, remember the condition is optional and can act like a filter.\n",
    "\n",
    "Here's an example of a list comprehension that squares the numbers in a list:"
   ]
  },
  {
   "cell_type": "code",
   "execution_count": null,
   "metadata": {},
   "outputs": [],
   "source": [
    "numbers = [1, 2, 3, 4, 5]\n",
    "squared_numbers = [x**2 for x in numbers]\n",
    "print(squared_numbers)"
   ]
  },
  {
   "cell_type": "markdown",
   "metadata": {},
   "source": [
    "# Optimizing in python\n",
    "\n",
    "Optimizing in Python depends specifically on the problem you want to solve, and on the features and bottlenecks of the program."
   ]
  },
  {
   "attachments": {},
   "cell_type": "markdown",
   "metadata": {},
   "source": [
    "## Generators"
   ]
  },
  {
   "attachments": {},
   "cell_type": "markdown",
   "metadata": {},
   "source": [
    "Generator functions are a special kind of function that return a lazy iterator. These are objects that you can loop over like a list. However, unlike lists, lazy iterators do not store their contents in memory. Can be used to generate a sequence of values. Unlike a normal function, which runs to completion and returns a single value, a generator function returns an object that can be used to iterate over a sequence of values. The values are generated one at a time, as they are needed, making generators an efficient way to handle large sequences of data.\n",
    "\n",
    "A generator function is defined like a normal function, but instead of using the return statement, the generator function uses the yield statement to return each value in the sequence. The yield statement is used to specify the value to be returned for each iteration of the generator.\n",
    "\n",
    "Here's an example of a generator function that generates the Fibonacci sequence:"
   ]
  },
  {
   "cell_type": "code",
   "execution_count": null,
   "metadata": {},
   "outputs": [],
   "source": [
    "def fibonacci_generator():\n",
    "    a, b = 0, 1\n",
    "    while True:\n",
    "        yield a\n",
    "        a, b = b, a + b\n",
    "\n",
    "# Use the generator to print the first 10 numbers in the Fibonacci sequence\n",
    "fib = fibonacci_generator()\n",
    "for i in range(10):\n",
    "    print(next(fib))"
   ]
  },
  {
   "attachments": {},
   "cell_type": "markdown",
   "metadata": {},
   "source": [
    "This is a more succinct way to create the list fibonacci_function. \n",
    "Just remember this key difference:\n",
    "\n",
    "* Using yield will result in a generator object, the program will suspend function execution (saving its state) and return the yielded value to the caller.\n",
    "*  Using return will result in stopping the function execution completely.\n",
    "\n",
    "With generators you can resume function execution using generator's methods (e.g. `next()`)\n"
   ]
  },
  {
   "attachments": {},
   "cell_type": "markdown",
   "metadata": {},
   "source": [
    "You can also define a generator expression (also called a generator comprehension), which has a very similar syntax to list comprehensions. In this way, you can use the generator without calling a function:\n",
    "```python\n",
    "csv_gen = (row for row in open(file_name))\n",
    "```"
   ]
  },
  {
   "attachments": {},
   "cell_type": "markdown",
   "metadata": {},
   "source": [
    "Exercise:\n",
    "\n",
    "    * Write a generator that generates the first n even numbers (where n is a positive integer passed as an argument to the generator).\n",
    "    * Modify the above generator to also generate the first n odd numbers.\n",
    "    * Use the generator to print the first 10 even and odd numbers respectively."
   ]
  },
  {
   "attachments": {},
   "cell_type": "markdown",
   "metadata": {},
   "source": [
    "Here's an example of using generators in a business use case scenario:\n",
    "\n",
    "Imagine you're working for a company that deals with large amounts of data and you need to process this data in an efficient manner. You need to generate a list of all the customer IDs that have made a purchase over a certain amount in a given time period."
   ]
  },
  {
   "cell_type": "code",
   "execution_count": null,
   "metadata": {},
   "outputs": [],
   "source": [
    "def customer_id_generator(purchase_data, min_amount):\n",
    "    for customer_id, purchase_amount in purchase_data:\n",
    "        if purchase_amount >= min_amount:\n",
    "            yield customer_id\n",
    "\n",
    "# Example data\n",
    "purchase_data = [\n",
    "    (1, 200),\n",
    "    (2, 150),\n",
    "    (3, 250),\n",
    "    (4, 300),\n",
    "    (5, 175),\n",
    "    (6, 400),\n",
    "    (7, 100)\n",
    "]\n",
    "\n",
    "# Use the generator to get customer IDs for purchases over $200\n",
    "customer_ids = customer_id_generator()\n",
    "for id in customer_ids:\n",
    "    print(id)"
   ]
  },
  {
   "attachments": {},
   "cell_type": "markdown",
   "metadata": {},
   "source": [
    "In this example, the customer_id_generator function acts as a generator that takes in the purchase data and a minimum purchase amount as arguments. It yields the customer IDs of customers who made purchases over the specified amount. This generator allows you to process the data in an efficient and memory-friendly manner, as it generates each customer ID one at a time, instead of generating the entire list at once."
   ]
  },
  {
   "attachments": {},
   "cell_type": "markdown",
   "metadata": {},
   "source": [
    "> Content created by **Carlos Cruz-Maldonado**.  \n",
    "> Feel free to ping me at any time."
   ]
  }
 ],
 "metadata": {
  "kernelspec": {
   "display_name": "Python 3.7.9 ('personal')",
   "language": "python",
   "name": "python3"
  },
  "language_info": {
   "codemirror_mode": {
    "name": "ipython",
    "version": 3
   },
   "file_extension": ".py",
   "mimetype": "text/x-python",
   "name": "python",
   "nbconvert_exporter": "python",
   "pygments_lexer": "ipython3",
   "version": "3.7.9"
  },
  "orig_nbformat": 4,
  "vscode": {
   "interpreter": {
    "hash": "252948c43895fb2cefa730c41b16e760efc56873c993d09cfc8bab107a8b51fd"
   }
  }
 },
 "nbformat": 4,
 "nbformat_minor": 2
}
