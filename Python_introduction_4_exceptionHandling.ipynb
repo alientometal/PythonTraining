{
 "cells": [
  {
   "attachments": {},
   "cell_type": "markdown",
   "metadata": {},
   "source": [
    "# Exception Handling"
   ]
  },
  {
   "attachments": {},
   "cell_type": "markdown",
   "metadata": {},
   "source": [
    "## Try Except\n",
    "\n",
    "The <a href=https://docs.python.org/3.8/tutorial/errors.html>`try`-`except`</a> statement in Python provides exception handling. It allows you to handle errors and exceptions that might occur in your code, without the program terminating abruptly.\n",
    "\n",
    "The `try` block contains the code that might raise an exception, and the `except` block contains the code that will handle the exception. If an exception is raised in the `try` block, the `except` block will be executed and the exception will be handled.\n",
    "\n",
    "Here-s an example:\n",
    "```python\n",
    "try:\n",
    "    # code that might raise an exception\n",
    "    x = int(input(\"Enter a number: \"))\n",
    "except ValueError:\n",
    "    # code that will handle the exception\n",
    "    print(\"Invalid input, not a number.\")\n",
    "except:\n",
    "    # catch-all for any other exceptions\n",
    "    print(\"Something went wrong.\")\n",
    "else:\n",
    "    # code that will run only if no exceptions were raised\n",
    "    print(\"The number you entered is\", x)\n",
    "```\n",
    "\n",
    "In this example, the code in the `try` block will attempt to convert the user's input to an integer. If the input is not a valid number, a `ValueError` will be raised, and the `except` block will handle the exception by printing a message. If any other exceptions occur in the try block, the second except block will catch them and print a different message. If no exceptions were raised, the code in the `else`  block will be executed and print the number the user entered.\n",
    "\n",
    "The `try`-`except` statement is a crucial tool for creating robust and reliable code in Python, as it allows you to handle exceptions gracefully and prevent your program from crashing. It also helps you to separate the error-handling logic from the main code, making it easier to maintain and debug your programs."
   ]
  },
  {
   "cell_type": "code",
   "execution_count": null,
   "metadata": {},
   "outputs": [],
   "source": [
    "def whatType():\n",
    "    '''Example function of how to use the try except, it is important to always know how to use it safely.\n",
    "    It is easy to use it as a patch but this should be avoided, it can also be useful to optimize (see above).\n",
    "    It has no input and no output, it takes a value from the keyboard and tries to find a python data type for it.'''\n",
    "    a = input()\n",
    "    try:\n",
    "        a = eval(a)\n",
    "        print('Your input ', type(a))\n",
    "    except NameError:\n",
    "        print('Your input ',type(a))\n",
    "    return(None)"
   ]
  },
  {
   "cell_type": "code",
   "execution_count": null,
   "metadata": {},
   "outputs": [],
   "source": [
    "whatType() "
   ]
  },
  {
   "attachments": {},
   "cell_type": "markdown",
   "metadata": {},
   "source": [
    "> Content created by **Carlos Cruz-Maldonado**.  \n",
    "> Feel free to ping me at any time."
   ]
  }
 ],
 "metadata": {
  "kernelspec": {
   "display_name": "labjupyter",
   "language": "python",
   "name": "python3"
  },
  "language_info": {
   "name": "python",
   "version": "-1.-1.-1"
  },
  "orig_nbformat": 4,
  "vscode": {
   "interpreter": {
    "hash": "63b9296f6c17991b25300b923073fa09be5a7656821aad9d7c075cf9823913df"
   }
  }
 },
 "nbformat": 4,
 "nbformat_minor": 2
}
