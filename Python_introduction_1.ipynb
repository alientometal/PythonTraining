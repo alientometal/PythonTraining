{
 "cells": [
  {
   "attachments": {},
   "cell_type": "markdown",
   "metadata": {},
   "source": [
    "# Python Variables  \n",
    "Python has several types of variables natively. Starting with numeric variables, Python can work with integers, floating numbers and complex numbers. It also has strings to work with text and another type of variables called booleans to store binary values.\n",
    "\n",
    "The way we declare variables is as follows:\n",
    "\n",
    "`variable_name = <value>`\n",
    "\n",
    "The name of a variable cannot have spaces, it must start with a letter, it can contain capital letters or numbers inside the name.\n",
    "Example:\n",
    "\n",
    "`my_dog = \"Blackbird\"`\n",
    "\n",
    "To get the type of a variable, we can use the `type()` function and pass as parameter the variable we want to know.\n",
    "Example:"
   ]
  },
  {
   "cell_type": "code",
   "execution_count": null,
   "metadata": {},
   "outputs": [],
   "source": [
    "my_dog = \"Blackbird\"\n",
    "type(my_dog)"
   ]
  },
  {
   "attachments": {},
   "cell_type": "markdown",
   "metadata": {},
   "source": [
    "What happens if I execute the previous block of code?"
   ]
  },
  {
   "attachments": {},
   "cell_type": "markdown",
   "metadata": {},
   "source": [
    "# Python Data Types\n",
    "\n",
    "Python has five data types (click on the link for more information about the data type):\n",
    "\n",
    "a) <a href=\"http://thepythonguru.com/python-numbers/\">Number</a> (int, float and complex)<br>\n",
    "    b) <a href=\"http://thepythonguru.com/python-strings/\">String</a><br>\n",
    "    c) <a href=\"http://thepythonguru.com/python-lists/\">List</a> (vector)<br>\n",
    "    d) <a href=\"http://thepythonguru.com/python-tuples/\">Tuple</a> (related elements)<br>\n",
    "    e) <a href=\"http://thepythonguru.com/python-dictionaries/\">Dictionary</a> (mapping)<br>\n",
    "    f) Boolean other than **False**: 0, lists, tuples, empty strings and dictionaries as well as \"None\" count as false."
   ]
  },
  {
   "cell_type": "code",
   "execution_count": 4,
   "metadata": {},
   "outputs": [],
   "source": [
    "# Explain Casting"
   ]
  },
  {
   "cell_type": "markdown",
   "metadata": {},
   "source": [
    "# Strings\n",
    "The object (data type) string is very important for data analysis. It has a number of important and very useful methods for string processing and parsing, and there is a package (called re) for string support for <a href= http://www.rexegg.com/regex-quickstart.html>regular expressions</a>"
   ]
  },
  {
   "attachments": {},
   "cell_type": "markdown",
   "metadata": {},
   "source": [
    "* Addition\n",
    "* Special characters\n",
    "* Count\n",
    "* endswith\n",
    "* find\n",
    "* join\n",
    "* partition\n",
    "* replace\n",
    "* split"
   ]
  },
  {
   "cell_type": "code",
   "execution_count": null,
   "metadata": {},
   "outputs": [],
   "source": [
    "test_string = # Define a test string"
   ]
  },
  {
   "attachments": {},
   "cell_type": "markdown",
   "metadata": {},
   "source": [
    "# Lists\n",
    "\n",
    "Lists in python are also objects, so they have a series of attributes and methods to facilitate their use, the most important or used are:  \n",
    " (You are invited to try to understand how they work and if there are doubts ask)"
   ]
  },
  {
   "attachments": {},
   "cell_type": "markdown",
   "metadata": {},
   "source": [
    "* index\n",
    "* slice\n",
    "* count\n",
    "* extend\n",
    "* insert\n",
    "* reverse\n",
    "* sort"
   ]
  },
  {
   "cell_type": "code",
   "execution_count": null,
   "metadata": {},
   "outputs": [],
   "source": [
    "test_list = [1,2,3,4,5,6,7,8,9,10]"
   ]
  },
  {
   "cell_type": "markdown",
   "metadata": {},
   "source": [
    "# Tuples\n",
    "Tuples are relationships between two or more objects (like lists) however, once created, tuples cannot be modified, i.e. adding, deleting, etc. is not allowed. They can be useful when reading data and preserving their characteristics. Examples:"
   ]
  },
  {
   "cell_type": "code",
   "execution_count": null,
   "metadata": {},
   "outputs": [],
   "source": [
    "# Convert a list to a tuple and explore its methods\n",
    "# Try to apply the list methods to the tuple and explain"
   ]
  },
  {
   "cell_type": "markdown",
   "metadata": {},
   "source": [
    "# Dictionaries\n",
    "Dictionaries are the hashes in python. They are also objects and allow to store a key-value relationship, as you know the keys in a dictionary or hash must be unique, while the values can be repeated. The flexibility of dictionaries in python allows to have dictionaries that *point* to other data structures such as tuples, lists and even other dictionaries.\n",
    "\n",
    "Note, although it may sometimes appear that the .keys() and .values() methods of a dictionary retain some order and even correspond to each other, simply calling them does not ensure that element 'n' of one is equivalent to element 'n' of the other. "
   ]
  },
  {
   "attachments": {},
   "cell_type": "markdown",
   "metadata": {},
   "source": [
    "* get\n",
    "* has_key\n",
    "* items\n",
    "* keys\n",
    "* values"
   ]
  },
  {
   "cell_type": "markdown",
   "metadata": {},
   "source": [
    "# Exercises"
   ]
  },
  {
   "attachments": {},
   "cell_type": "markdown",
   "metadata": {},
   "source": [
    "### Data Types:  \n",
    "    a. Declare variables with different data types (integer, float, string, boolean) and print their values  \n",
    "    b. Convert between data types (e.g. convert a string to an integer, or a float to a string)  \n",
    "    c. Use basic mathematical operations on different data types (e.g. addition, subtraction, multiplication, division)  \n",
    "\n",
    "### Mutability and immutability of Python data types:  \n",
    "    a. Create a string, a list, a dictionary, and a tuple. Assign each one to a different variable.  \n",
    "    b. Try to modify the value of the string, the list, the dictionary, and the tuple. What happens and why?  \n",
    "    c. Create a new string, list, dictionary, and tuple that are equal to the original ones. Modify the new ones and compare the original and new variables. What happened and why?  \n",
    "    d. Create a new string and assign it to a variable. Concatenate the string with another string and assign the result to a new variable.    \n",
    "\n",
    "### Create a string that contains a quote and use string methods to:  \n",
    "    a. Convert the string to uppercase and assign it to a new variable  \n",
    "    b. Replace a word in the string with another word and assign it to a new variable  \n",
    "    c. Count the number of times a specific character appears in the string  \n",
    "    d. Split the string into a list of words and assign it to a new variable  \n",
    "\n",
    "### Create a list of numbers and use list methods to:  \n",
    "    a. Append a new number to the end of the list  \n",
    "    b. Insert a new number at a specific index  \n",
    "    c. Remove an element from the list using its value  \n",
    "    d. Sort the list in ascending or descending order  \n",
    "\n",
    "### Create a dictionary that represents a person's information and use dictionary methods to:  \n",
    "    a. Add a new key-value pair to the dictionary  \n",
    "    b. Remove a key-value pair from the dictionary  \n",
    "    c. Get the value of a specific key and assign it to a new variable  \n",
    "    d. Check if a key exists in the dictionary  \n",
    "\n",
    "### Create a tuple of strings and use tuple methods to:  \n",
    "    a. Concatenate two tuples and assign it to a new variable  \n",
    "    b. Repeat the tuple a certain number of times and assign it to a new variable  \n",
    "    c. Find the index of a specific element in the tuple  \n",
    "    d. Check if a specific element is present in the tuple  "
   ]
  },
  {
   "cell_type": "markdown",
   "metadata": {},
   "source": []
  }
 ],
 "metadata": {
  "kernelspec": {
   "display_name": "Python 3.7.9 ('personal')",
   "language": "python",
   "name": "python3"
  },
  "language_info": {
   "codemirror_mode": {
    "name": "ipython",
    "version": 3
   },
   "file_extension": ".py",
   "mimetype": "text/x-python",
   "name": "python",
   "nbconvert_exporter": "python",
   "pygments_lexer": "ipython3",
   "version": "3.7.9"
  },
  "orig_nbformat": 4,
  "vscode": {
   "interpreter": {
    "hash": "252948c43895fb2cefa730c41b16e760efc56873c993d09cfc8bab107a8b51fd"
   }
  }
 },
 "nbformat": 4,
 "nbformat_minor": 2
}
